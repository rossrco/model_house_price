{
 "cells": [
  {
   "cell_type": "code",
   "execution_count": 138,
   "metadata": {},
   "outputs": [],
   "source": [
    "import pandas as pd\n",
    "import numpy as np\n",
    "import google.cloud.bigquery as bq\n",
    "import tensorflow as tf\n",
    "from tensorflow import keras\n",
    "from sklearn import model_selection\n",
    "from sklearn import metrics\n",
    "from sklearn import impute\n",
    "from sklearn import pipeline\n",
    "from sklearn import preprocessing\n",
    "from sklearn import compose\n",
    "from sklearn import linear_model\n",
    "from sklearn import ensemble\n",
    "from category_encoders import target_encoder\n",
    "import matplotlib.pyplot as plt"
   ]
  },
  {
   "cell_type": "markdown",
   "metadata": {},
   "source": [
    "### Ingest Data"
   ]
  },
  {
   "cell_type": "code",
   "execution_count": 2,
   "metadata": {},
   "outputs": [],
   "source": [
    "%load_ext google.cloud.bigquery"
   ]
  },
  {
   "cell_type": "code",
   "execution_count": 3,
   "metadata": {},
   "outputs": [],
   "source": [
    "%%bigquery data\n",
    "SELECT\n",
    "  *\n",
    "FROM `curious-bot.homes.ad_details`\n",
    "WHERE price_per_sq_m IS NOT NULL\n",
    "  AND post_code IS NOT NULL"
   ]
  },
  {
   "cell_type": "code",
   "execution_count": 4,
   "metadata": {},
   "outputs": [],
   "source": [
    "data.set_index('id', inplace=True)"
   ]
  },
  {
   "cell_type": "code",
   "execution_count": 5,
   "metadata": {},
   "outputs": [
    {
     "name": "stdout",
     "output_type": "stream",
     "text": [
      "<class 'pandas.core.frame.DataFrame'>\n",
      "Index: 7544 entries, 5071b23d-0c43-4021-b5a5-91c34b612038 to a7b43aee-e5bc-42e6-abe2-8ab317a66c60\n",
      "Data columns (total 16 columns):\n",
      "new_building      7544 non-null bool\n",
      "promoted          7544 non-null bool\n",
      "price             7544 non-null int64\n",
      "area              7544 non-null int64\n",
      "price_per_sq_m    7544 non-null int64\n",
      "type              7544 non-null object\n",
      "viewed            7544 non-null datetime64[ns, UTC]\n",
      "address           7544 non-null object\n",
      "post_code         7544 non-null object\n",
      "street_num        7532 non-null object\n",
      "street_name       7540 non-null object\n",
      "postal_town       7544 non-null object\n",
      "country           7544 non-null object\n",
      "lat               7544 non-null float64\n",
      "lng               7544 non-null float64\n",
      "short_desc        7544 non-null object\n",
      "dtypes: bool(2), datetime64[ns, UTC](1), float64(2), int64(3), object(8)\n",
      "memory usage: 898.8+ KB\n"
     ]
    }
   ],
   "source": [
    "data.info()"
   ]
  },
  {
   "cell_type": "markdown",
   "metadata": {},
   "source": [
    "### Define Utils"
   ]
  },
  {
   "cell_type": "code",
   "execution_count": 111,
   "metadata": {},
   "outputs": [],
   "source": [
    "def demo(dataset, feature_col):\n",
    "    example = next(iter(dataset))[0]\n",
    "    feature_layer = tf.keras.layers.DenseFeatures(feature_col)\n",
    "    print(feature_layer(example).numpy())\n",
    "\n",
    "def input_to_estimator(X, y, batch_size):\n",
    "    ds = tf.data.Dataset.from_tensor_slices((dict(X), y))\n",
    "    return ds.batch(batch_size)\n",
    "\n",
    "def mean_absolute_prc_error(y_true, y_pred):\n",
    "    return np.mean(np.abs((y_true - y_pred) / y_true))\n",
    "\n",
    "def get_metrics(y_true, y_pred, model_name):\n",
    "    mae = metrics.mean_absolute_error(y_test, y_pred)\n",
    "    mape = mean_absolute_prc_error(y_test, y_pred)\n",
    "    r2 = metrics.r2_score(y_test, y_pred)\n",
    "    return {'model': model_name, 'mae': mae, 'mape': mape, 'r2': r2}"
   ]
  },
  {
   "cell_type": "markdown",
   "metadata": {},
   "source": [
    "### Hyperparameters"
   ]
  },
  {
   "cell_type": "code",
   "execution_count": 132,
   "metadata": {},
   "outputs": [],
   "source": [
    "random_seed = 42\n",
    "test_size = 0.3\n",
    "batch_size = 300\n",
    "n_area_bins = 5\n",
    "min_points_per_post_code = 20"
   ]
  },
  {
   "cell_type": "markdown",
   "metadata": {},
   "source": [
    "### Prepare Train And Test Datasets"
   ]
  },
  {
   "cell_type": "code",
   "execution_count": 113,
   "metadata": {},
   "outputs": [],
   "source": [
    "X_cols = ['new_building', 'promoted', 'area', 'type', 'post_code']\n",
    "\n",
    "X = data[X_cols]\n",
    "y = data.price_per_sq_m\n",
    "\n",
    "data_train, data_test = model_selection.train_test_split(data,\n",
    "                                                         test_size=test_size,\n",
    "                                                         random_state=random_seed)\n",
    "\n",
    "X_train, X_test = data_train[X_cols], data_test[X_cols]\n",
    "y_train, y_test = data_train.price_per_sq_m, data_test.price_per_sq_m\n",
    "\n",
    "ds_train = input_to_estimator(X_train, y_train, batch_size)\n",
    "ds_test = input_to_estimator(X_test, y_test, batch_size)"
   ]
  },
  {
   "cell_type": "markdown",
   "metadata": {},
   "source": [
    "### Benchmark Median Price Per Square Meter"
   ]
  },
  {
   "cell_type": "code",
   "execution_count": 114,
   "metadata": {},
   "outputs": [],
   "source": [
    "metrics_list = []\n",
    "style_format = {'mae': '{:.0f}', 'mape': '{:.0%}', 'r2': '{:.0%}'}"
   ]
  },
  {
   "cell_type": "code",
   "execution_count": 115,
   "metadata": {},
   "outputs": [],
   "source": [
    "y_pred = [y_train.median()] * len(y_test)\n",
    "metrics_list.append(get_metrics(y_test, y_pred, 'benchmark_median_price'))"
   ]
  },
  {
   "cell_type": "code",
   "execution_count": 116,
   "metadata": {},
   "outputs": [
    {
     "data": {
      "text/html": [
       "<style  type=\"text/css\" >\n",
       "</style><table id=\"T_7188ce82_b239_11ea_ad1f_acde48001122\" ><thead>    <tr>        <th class=\"blank level0\" ></th>        <th class=\"col_heading level0 col0\" >mae</th>        <th class=\"col_heading level0 col1\" >mape</th>        <th class=\"col_heading level0 col2\" >r2</th>    </tr>    <tr>        <th class=\"index_name level0\" >model</th>        <th class=\"blank\" ></th>        <th class=\"blank\" ></th>        <th class=\"blank\" ></th>    </tr></thead><tbody>\n",
       "                <tr>\n",
       "                        <th id=\"T_7188ce82_b239_11ea_ad1f_acde48001122level0_row0\" class=\"row_heading level0 row0\" >benchmark_median_price</th>\n",
       "                        <td id=\"T_7188ce82_b239_11ea_ad1f_acde48001122row0_col0\" class=\"data row0 col0\" >16670</td>\n",
       "                        <td id=\"T_7188ce82_b239_11ea_ad1f_acde48001122row0_col1\" class=\"data row0 col1\" >26%</td>\n",
       "                        <td id=\"T_7188ce82_b239_11ea_ad1f_acde48001122row0_col2\" class=\"data row0 col2\" >-0%</td>\n",
       "            </tr>\n",
       "    </tbody></table>"
      ],
      "text/plain": [
       "<pandas.io.formats.style.Styler at 0x14e4d0790>"
      ]
     },
     "execution_count": 116,
     "metadata": {},
     "output_type": "execute_result"
    }
   ],
   "source": [
    "pd.DataFrame(metrics_list).set_index('model').style.format(style_format)"
   ]
  },
  {
   "cell_type": "markdown",
   "metadata": {},
   "source": [
    "### Benchmark Median Price Per Square Meter Per Post Code"
   ]
  },
  {
   "cell_type": "code",
   "execution_count": 117,
   "metadata": {},
   "outputs": [],
   "source": [
    "med_price_post_code = data_train.groupby('post_code').price_per_sq_m.median()\n",
    "count_post_code = data_train.groupby('post_code').price_per_sq_m.count()"
   ]
  },
  {
   "cell_type": "code",
   "execution_count": 118,
   "metadata": {},
   "outputs": [],
   "source": [
    "post_codes_above_min_points = count_post_code[count_post_code > min_points_per_post_code].index"
   ]
  },
  {
   "cell_type": "code",
   "execution_count": 119,
   "metadata": {},
   "outputs": [],
   "source": [
    "med_price_post_code_sel = med_price_post_code.loc[post_codes_above_min_points]\n",
    "med_price_post_code_sel.rename('post_code_median_price', inplace=True)\n",
    "\n",
    "y_pred = data_test.merge(med_price_post_code_sel,\n",
    "                         how='left',\n",
    "                         left_on='post_code',\n",
    "                         right_index=True).post_code_median_price\n",
    "\n",
    "y_pred.fillna(y_train.median(), inplace=True)"
   ]
  },
  {
   "cell_type": "code",
   "execution_count": 120,
   "metadata": {},
   "outputs": [],
   "source": [
    "metrics_list.append(get_metrics(y_test, y_pred, 'benchmark_median_price_per_post_code'))"
   ]
  },
  {
   "cell_type": "code",
   "execution_count": 121,
   "metadata": {},
   "outputs": [
    {
     "data": {
      "text/html": [
       "<style  type=\"text/css\" >\n",
       "</style><table id=\"T_719159a8_b239_11ea_ad1f_acde48001122\" ><thead>    <tr>        <th class=\"blank level0\" ></th>        <th class=\"col_heading level0 col0\" >mae</th>        <th class=\"col_heading level0 col1\" >mape</th>        <th class=\"col_heading level0 col2\" >r2</th>    </tr>    <tr>        <th class=\"index_name level0\" >model</th>        <th class=\"blank\" ></th>        <th class=\"blank\" ></th>        <th class=\"blank\" ></th>    </tr></thead><tbody>\n",
       "                <tr>\n",
       "                        <th id=\"T_719159a8_b239_11ea_ad1f_acde48001122level0_row0\" class=\"row_heading level0 row0\" >benchmark_median_price</th>\n",
       "                        <td id=\"T_719159a8_b239_11ea_ad1f_acde48001122row0_col0\" class=\"data row0 col0\" >16670</td>\n",
       "                        <td id=\"T_719159a8_b239_11ea_ad1f_acde48001122row0_col1\" class=\"data row0 col1\" >26%</td>\n",
       "                        <td id=\"T_719159a8_b239_11ea_ad1f_acde48001122row0_col2\" class=\"data row0 col2\" >-0%</td>\n",
       "            </tr>\n",
       "            <tr>\n",
       "                        <th id=\"T_719159a8_b239_11ea_ad1f_acde48001122level0_row1\" class=\"row_heading level0 row1\" >benchmark_median_price_per_post_code</th>\n",
       "                        <td id=\"T_719159a8_b239_11ea_ad1f_acde48001122row1_col0\" class=\"data row1 col0\" >15182</td>\n",
       "                        <td id=\"T_719159a8_b239_11ea_ad1f_acde48001122row1_col1\" class=\"data row1 col1\" >24%</td>\n",
       "                        <td id=\"T_719159a8_b239_11ea_ad1f_acde48001122row1_col2\" class=\"data row1 col2\" >15%</td>\n",
       "            </tr>\n",
       "    </tbody></table>"
      ],
      "text/plain": [
       "<pandas.io.formats.style.Styler at 0x149c7f5d0>"
      ]
     },
     "execution_count": 121,
     "metadata": {},
     "output_type": "execute_result"
    }
   ],
   "source": [
    "pd.DataFrame(metrics_list).set_index('model').style.format(style_format)"
   ]
  },
  {
   "cell_type": "markdown",
   "metadata": {},
   "source": [
    "### Linear Regression"
   ]
  },
  {
   "cell_type": "code",
   "execution_count": 122,
   "metadata": {},
   "outputs": [],
   "source": [
    "cat_transformer = pipeline.Pipeline(steps=[\n",
    "    ('imputer', impute.SimpleImputer(strategy='constant', fill_value='unknown')),\n",
    "    ('target_enc', target_encoder.TargetEncoder(handle_unknown='ignore'))\n",
    "])\n",
    "\n",
    "num_transformer = pipeline.Pipeline(steps=[\n",
    "    ('imputer', impute.SimpleImputer(strategy='median')),\n",
    "    ('bucketize', preprocessing.KBinsDiscretizer(n_bins=n_area_bins))\n",
    "])\n",
    "\n",
    "preprocessor = compose.ColumnTransformer(transformers=[\n",
    "    ('cat_transf', cat_transformer, ['post_code']),\n",
    "    ('num_transf', num_transformer, ['area'])\n",
    "])\n",
    "\n",
    "linreg = pipeline.Pipeline(steps=[\n",
    "    ('preprocessor', preprocessor),\n",
    "    ('linear_reg', linear_model.LinearRegression())\n",
    "])"
   ]
  },
  {
   "cell_type": "code",
   "execution_count": 123,
   "metadata": {},
   "outputs": [
    {
     "data": {
      "text/plain": [
       "Pipeline(memory=None,\n",
       "         steps=[('preprocessor',\n",
       "                 ColumnTransformer(n_jobs=None, remainder='drop',\n",
       "                                   sparse_threshold=0.3,\n",
       "                                   transformer_weights=None,\n",
       "                                   transformers=[('cat_transf',\n",
       "                                                  Pipeline(memory=None,\n",
       "                                                           steps=[('imputer',\n",
       "                                                                   SimpleImputer(add_indicator=False,\n",
       "                                                                                 copy=True,\n",
       "                                                                                 fill_value='unknown',\n",
       "                                                                                 missing_values=nan,\n",
       "                                                                                 strategy='constant',\n",
       "                                                                                 verbose=0)),\n",
       "                                                                  ('target_enc',\n",
       "                                                                   TargetEncoder(co...\n",
       "                                                           steps=[('imputer',\n",
       "                                                                   SimpleImputer(add_indicator=False,\n",
       "                                                                                 copy=True,\n",
       "                                                                                 fill_value=None,\n",
       "                                                                                 missing_values=nan,\n",
       "                                                                                 strategy='median',\n",
       "                                                                                 verbose=0)),\n",
       "                                                                  ('bucketize',\n",
       "                                                                   KBinsDiscretizer(encode='onehot',\n",
       "                                                                                    n_bins=5,\n",
       "                                                                                    strategy='quantile'))],\n",
       "                                                           verbose=False),\n",
       "                                                  ['area'])],\n",
       "                                   verbose=False)),\n",
       "                ('linear_reg',\n",
       "                 LinearRegression(copy_X=True, fit_intercept=True, n_jobs=None,\n",
       "                                  normalize=False))],\n",
       "         verbose=False)"
      ]
     },
     "execution_count": 123,
     "metadata": {},
     "output_type": "execute_result"
    }
   ],
   "source": [
    "linreg.fit(X_train, y_train)"
   ]
  },
  {
   "cell_type": "code",
   "execution_count": 124,
   "metadata": {},
   "outputs": [],
   "source": [
    "y_pred = linreg.predict(X_test)\n",
    "metrics_list.append(get_metrics(y_test, y_pred, 'linear_regression'))"
   ]
  },
  {
   "cell_type": "code",
   "execution_count": 125,
   "metadata": {},
   "outputs": [
    {
     "data": {
      "text/html": [
       "<style  type=\"text/css\" >\n",
       "</style><table id=\"T_71a1c810_b239_11ea_ad1f_acde48001122\" ><thead>    <tr>        <th class=\"blank level0\" ></th>        <th class=\"col_heading level0 col0\" >mae</th>        <th class=\"col_heading level0 col1\" >mape</th>        <th class=\"col_heading level0 col2\" >r2</th>    </tr>    <tr>        <th class=\"index_name level0\" >model</th>        <th class=\"blank\" ></th>        <th class=\"blank\" ></th>        <th class=\"blank\" ></th>    </tr></thead><tbody>\n",
       "                <tr>\n",
       "                        <th id=\"T_71a1c810_b239_11ea_ad1f_acde48001122level0_row0\" class=\"row_heading level0 row0\" >benchmark_median_price</th>\n",
       "                        <td id=\"T_71a1c810_b239_11ea_ad1f_acde48001122row0_col0\" class=\"data row0 col0\" >16670</td>\n",
       "                        <td id=\"T_71a1c810_b239_11ea_ad1f_acde48001122row0_col1\" class=\"data row0 col1\" >26%</td>\n",
       "                        <td id=\"T_71a1c810_b239_11ea_ad1f_acde48001122row0_col2\" class=\"data row0 col2\" >-0%</td>\n",
       "            </tr>\n",
       "            <tr>\n",
       "                        <th id=\"T_71a1c810_b239_11ea_ad1f_acde48001122level0_row1\" class=\"row_heading level0 row1\" >benchmark_median_price_per_post_code</th>\n",
       "                        <td id=\"T_71a1c810_b239_11ea_ad1f_acde48001122row1_col0\" class=\"data row1 col0\" >15182</td>\n",
       "                        <td id=\"T_71a1c810_b239_11ea_ad1f_acde48001122row1_col1\" class=\"data row1 col1\" >24%</td>\n",
       "                        <td id=\"T_71a1c810_b239_11ea_ad1f_acde48001122row1_col2\" class=\"data row1 col2\" >15%</td>\n",
       "            </tr>\n",
       "            <tr>\n",
       "                        <th id=\"T_71a1c810_b239_11ea_ad1f_acde48001122level0_row2\" class=\"row_heading level0 row2\" >linear_regression</th>\n",
       "                        <td id=\"T_71a1c810_b239_11ea_ad1f_acde48001122row2_col0\" class=\"data row2 col0\" >13638</td>\n",
       "                        <td id=\"T_71a1c810_b239_11ea_ad1f_acde48001122row2_col1\" class=\"data row2 col1\" >20%</td>\n",
       "                        <td id=\"T_71a1c810_b239_11ea_ad1f_acde48001122row2_col2\" class=\"data row2 col2\" >29%</td>\n",
       "            </tr>\n",
       "    </tbody></table>"
      ],
      "text/plain": [
       "<pandas.io.formats.style.Styler at 0x14e4a4f50>"
      ]
     },
     "execution_count": 125,
     "metadata": {},
     "output_type": "execute_result"
    }
   ],
   "source": [
    "pd.DataFrame(metrics_list).set_index('model').style.format(style_format)"
   ]
  },
  {
   "cell_type": "markdown",
   "metadata": {},
   "source": [
    "### Gradient Boosting Regressor"
   ]
  },
  {
   "cell_type": "code",
   "execution_count": 126,
   "metadata": {},
   "outputs": [],
   "source": [
    "boostreg = pipeline.Pipeline(steps=[\n",
    "    ('preprocessor', preprocessor),\n",
    "    ('linear_reg', ensemble.GradientBoostingRegressor())\n",
    "])"
   ]
  },
  {
   "cell_type": "code",
   "execution_count": 127,
   "metadata": {},
   "outputs": [
    {
     "data": {
      "text/plain": [
       "Pipeline(memory=None,\n",
       "         steps=[('preprocessor',\n",
       "                 ColumnTransformer(n_jobs=None, remainder='drop',\n",
       "                                   sparse_threshold=0.3,\n",
       "                                   transformer_weights=None,\n",
       "                                   transformers=[('cat_transf',\n",
       "                                                  Pipeline(memory=None,\n",
       "                                                           steps=[('imputer',\n",
       "                                                                   SimpleImputer(add_indicator=False,\n",
       "                                                                                 copy=True,\n",
       "                                                                                 fill_value='unknown',\n",
       "                                                                                 missing_values=nan,\n",
       "                                                                                 strategy='constant',\n",
       "                                                                                 verbose=0)),\n",
       "                                                                  ('target_enc',\n",
       "                                                                   TargetEncoder(co...\n",
       "                                           learning_rate=0.1, loss='ls',\n",
       "                                           max_depth=3, max_features=None,\n",
       "                                           max_leaf_nodes=None,\n",
       "                                           min_impurity_decrease=0.0,\n",
       "                                           min_impurity_split=None,\n",
       "                                           min_samples_leaf=1,\n",
       "                                           min_samples_split=2,\n",
       "                                           min_weight_fraction_leaf=0.0,\n",
       "                                           n_estimators=100,\n",
       "                                           n_iter_no_change=None,\n",
       "                                           presort='deprecated',\n",
       "                                           random_state=None, subsample=1.0,\n",
       "                                           tol=0.0001, validation_fraction=0.1,\n",
       "                                           verbose=0, warm_start=False))],\n",
       "         verbose=False)"
      ]
     },
     "execution_count": 127,
     "metadata": {},
     "output_type": "execute_result"
    }
   ],
   "source": [
    "boostreg.fit(X_train, y_train)"
   ]
  },
  {
   "cell_type": "code",
   "execution_count": 128,
   "metadata": {},
   "outputs": [],
   "source": [
    "y_pred = boostreg.predict(X_test)\n",
    "metrics_list.append(get_metrics(y_test, y_pred, 'gradient_boosting_regressor'))"
   ]
  },
  {
   "cell_type": "code",
   "execution_count": 129,
   "metadata": {},
   "outputs": [
    {
     "data": {
      "text/html": [
       "<style  type=\"text/css\" >\n",
       "</style><table id=\"T_71c7644e_b239_11ea_ad1f_acde48001122\" ><thead>    <tr>        <th class=\"blank level0\" ></th>        <th class=\"col_heading level0 col0\" >mae</th>        <th class=\"col_heading level0 col1\" >mape</th>        <th class=\"col_heading level0 col2\" >r2</th>    </tr>    <tr>        <th class=\"index_name level0\" >model</th>        <th class=\"blank\" ></th>        <th class=\"blank\" ></th>        <th class=\"blank\" ></th>    </tr></thead><tbody>\n",
       "                <tr>\n",
       "                        <th id=\"T_71c7644e_b239_11ea_ad1f_acde48001122level0_row0\" class=\"row_heading level0 row0\" >benchmark_median_price</th>\n",
       "                        <td id=\"T_71c7644e_b239_11ea_ad1f_acde48001122row0_col0\" class=\"data row0 col0\" >16670</td>\n",
       "                        <td id=\"T_71c7644e_b239_11ea_ad1f_acde48001122row0_col1\" class=\"data row0 col1\" >26%</td>\n",
       "                        <td id=\"T_71c7644e_b239_11ea_ad1f_acde48001122row0_col2\" class=\"data row0 col2\" >-0%</td>\n",
       "            </tr>\n",
       "            <tr>\n",
       "                        <th id=\"T_71c7644e_b239_11ea_ad1f_acde48001122level0_row1\" class=\"row_heading level0 row1\" >benchmark_median_price_per_post_code</th>\n",
       "                        <td id=\"T_71c7644e_b239_11ea_ad1f_acde48001122row1_col0\" class=\"data row1 col0\" >15182</td>\n",
       "                        <td id=\"T_71c7644e_b239_11ea_ad1f_acde48001122row1_col1\" class=\"data row1 col1\" >24%</td>\n",
       "                        <td id=\"T_71c7644e_b239_11ea_ad1f_acde48001122row1_col2\" class=\"data row1 col2\" >15%</td>\n",
       "            </tr>\n",
       "            <tr>\n",
       "                        <th id=\"T_71c7644e_b239_11ea_ad1f_acde48001122level0_row2\" class=\"row_heading level0 row2\" >linear_regression</th>\n",
       "                        <td id=\"T_71c7644e_b239_11ea_ad1f_acde48001122row2_col0\" class=\"data row2 col0\" >13638</td>\n",
       "                        <td id=\"T_71c7644e_b239_11ea_ad1f_acde48001122row2_col1\" class=\"data row2 col1\" >20%</td>\n",
       "                        <td id=\"T_71c7644e_b239_11ea_ad1f_acde48001122row2_col2\" class=\"data row2 col2\" >29%</td>\n",
       "            </tr>\n",
       "            <tr>\n",
       "                        <th id=\"T_71c7644e_b239_11ea_ad1f_acde48001122level0_row3\" class=\"row_heading level0 row3\" >gradient_boosting_regressor</th>\n",
       "                        <td id=\"T_71c7644e_b239_11ea_ad1f_acde48001122row3_col0\" class=\"data row3 col0\" >11120</td>\n",
       "                        <td id=\"T_71c7644e_b239_11ea_ad1f_acde48001122row3_col1\" class=\"data row3 col1\" >16%</td>\n",
       "                        <td id=\"T_71c7644e_b239_11ea_ad1f_acde48001122row3_col2\" class=\"data row3 col2\" >39%</td>\n",
       "            </tr>\n",
       "    </tbody></table>"
      ],
      "text/plain": [
       "<pandas.io.formats.style.Styler at 0x14e4c2d50>"
      ]
     },
     "execution_count": 129,
     "metadata": {},
     "output_type": "execute_result"
    }
   ],
   "source": [
    "pd.DataFrame(metrics_list).set_index('model').style.format(style_format)"
   ]
  },
  {
   "cell_type": "markdown",
   "metadata": {},
   "source": [
    "### Deep Learning Model"
   ]
  },
  {
   "cell_type": "code",
   "execution_count": 134,
   "metadata": {},
   "outputs": [],
   "source": [
    "area_bins = list(range(30, 180, 30))\n",
    "all_post_codes = list(X_train.post_code.unique())\n",
    "\n",
    "area = tf.feature_column.numeric_column('area')\n",
    "area_bucket = tf.feature_column.bucketized_column(area, boundaries=area_bins)\n",
    "\n",
    "promoted = tf.feature_column.numeric_column('promoted')\n",
    "\n",
    "new_building = tf.feature_column.numeric_column('new_building')\n",
    "\n",
    "real_est_type = tf.feature_column.categorical_column_with_vocabulary_list('type', ['apartment', 'semi_detached', 'terraced', 'detached'])\n",
    "real_est_type_1_hot = tf.feature_column.indicator_column(real_est_type)\n",
    "\n",
    "\n",
    "post_code = tf.feature_column.categorical_column_with_vocabulary_list('post_code', all_post_codes)\n",
    "post_code_embedding = tf.feature_column.embedding_column(post_code, dimension=20)\n",
    "post_code_hash = tf.feature_column.categorical_column_with_hash_bucket('post_code', 50)\n",
    "post_code_hash_ind = tf.feature_column.indicator_column(post_code_hash)\n",
    "\n",
    "real_est_type_x_area_bucket = tf.feature_column.crossed_column([real_est_type, area_bucket], hash_bucket_size=20)\n",
    "real_est_type_x_area_bucket_1_hot = tf.feature_column.indicator_column(real_est_type_x_area_bucket)\n",
    "\n",
    "post_code_embedding_x_area_bucket = tf.feature_column.crossed_column([post_code, area_bucket], hash_bucket_size=200)\n",
    "post_code_embedding_x_area_bucket_1_hot = tf.feature_column.indicator_column(post_code_embedding_x_area_bucket)\n",
    "\n",
    "post_code_embedding_x_real_est_type = tf.feature_column.crossed_column([post_code, real_est_type], hash_bucket_size=100)\n",
    "post_code_embedding_x_real_est_type_1_hot = tf.feature_column.indicator_column(post_code_embedding_x_real_est_type)"
   ]
  },
  {
   "cell_type": "code",
   "execution_count": 135,
   "metadata": {},
   "outputs": [],
   "source": [
    "features = [area_bucket, promoted, new_building,\n",
    "            real_est_type_1_hot, post_code_embedding,\n",
    "            real_est_type_x_area_bucket_1_hot,\n",
    "            post_code_embedding_x_area_bucket_1_hot,\n",
    "            post_code_embedding_x_real_est_type_1_hot]\n",
    "\n",
    "feature_layer = tf.keras.layers.DenseFeatures(features)"
   ]
  },
  {
   "cell_type": "code",
   "execution_count": 136,
   "metadata": {},
   "outputs": [
    {
     "name": "stdout",
     "output_type": "stream",
     "text": [
      "WARNING:tensorflow:From /Users/ruslan.kozhuharov/venvs/tf/lib/python3.7/site-packages/tensorflow_core/python/feature_column/feature_column_v2.py:4267: IndicatorColumn._variable_shape (from tensorflow.python.feature_column.feature_column_v2) is deprecated and will be removed in a future version.\n",
      "Instructions for updating:\n",
      "The old _FeatureColumn APIs are being deprecated. Please use the new FeatureColumn APIs instead.\n",
      "WARNING:tensorflow:From /Users/ruslan.kozhuharov/venvs/tf/lib/python3.7/site-packages/tensorflow_core/python/feature_column/feature_column_v2.py:4322: CrossedColumn._num_buckets (from tensorflow.python.feature_column.feature_column_v2) is deprecated and will be removed in a future version.\n",
      "Instructions for updating:\n",
      "The old _FeatureColumn APIs are being deprecated. Please use the new FeatureColumn APIs instead.\n",
      "WARNING:tensorflow:From /Users/ruslan.kozhuharov/venvs/tf/lib/python3.7/site-packages/tensorflow_core/python/feature_column/feature_column_v2.py:4322: VocabularyListCategoricalColumn._num_buckets (from tensorflow.python.feature_column.feature_column_v2) is deprecated and will be removed in a future version.\n",
      "Instructions for updating:\n",
      "The old _FeatureColumn APIs are being deprecated. Please use the new FeatureColumn APIs instead.\n",
      "CPU times: user 2min 13s, sys: 11.1 s, total: 2min 24s\n",
      "Wall time: 23.5 s\n"
     ]
    }
   ],
   "source": [
    "%%time\n",
    "\n",
    "model = tf.keras.Sequential([\n",
    "    feature_layer,\n",
    "    tf.keras.layers.Dense(1024, activation='relu'),\n",
    "    tf.keras.layers.Dense(512, activation='relu'),\n",
    "    tf.keras.layers.Dense(128, activation='relu'),\n",
    "    tf.keras.layers.Dense(1)\n",
    "])\n",
    "\n",
    "model.compile(optimizer='adam',\n",
    "              loss='mae',\n",
    "              metrics=['mse', 'mae', 'mean_absolute_percentage_error'])\n",
    "\n",
    "hist = model.fit(ds_train,\n",
    "                 validation_data=ds_test,\n",
    "                 epochs=100,\n",
    "                 verbose=0)"
   ]
  },
  {
   "cell_type": "code",
   "execution_count": 139,
   "metadata": {},
   "outputs": [
    {
     "data": {
      "image/png": "[encoded data removed]",
      "text/plain": [
       "<Figure size 432x288 with 1 Axes>"
      ]
     },
     "metadata": {
      "needs_background": "light"
     },
     "output_type": "display_data"
    }
   ],
   "source": [
    "plt.plot(hist.history['mae'], label='train')\n",
    "plt.plot(hist.history['val_mae'], label='valid')\n",
    "plt.legend()\n",
    "plt.show()"
   ]
  },
  {
   "cell_type": "code",
   "execution_count": 140,
   "metadata": {},
   "outputs": [],
   "source": [
    "y_pred = model.predict(ds_test)\n",
    "\n",
    "metrics_list.append(get_metrics(y_test, y_pred[:, 0], 'wide_and_deep_model'))"
   ]
  },
  {
   "cell_type": "code",
   "execution_count": 146,
   "metadata": {},
   "outputs": [
    {
     "data": {
      "text/html": [
       "<style  type=\"text/css\" >\n",
       "</style><table id=\"T_b97a581c_b23b_11ea_ad1f_acde48001122\" ><thead>    <tr>        <th class=\"blank level0\" ></th>        <th class=\"col_heading level0 col0\" >mae</th>        <th class=\"col_heading level0 col1\" >mape</th>        <th class=\"col_heading level0 col2\" >r2</th>    </tr>    <tr>        <th class=\"index_name level0\" >model</th>        <th class=\"blank\" ></th>        <th class=\"blank\" ></th>        <th class=\"blank\" ></th>    </tr></thead><tbody>\n",
       "                <tr>\n",
       "                        <th id=\"T_b97a581c_b23b_11ea_ad1f_acde48001122level0_row0\" class=\"row_heading level0 row0\" >benchmark_median_price</th>\n",
       "                        <td id=\"T_b97a581c_b23b_11ea_ad1f_acde48001122row0_col0\" class=\"data row0 col0\" >16670</td>\n",
       "                        <td id=\"T_b97a581c_b23b_11ea_ad1f_acde48001122row0_col1\" class=\"data row0 col1\" >26%</td>\n",
       "                        <td id=\"T_b97a581c_b23b_11ea_ad1f_acde48001122row0_col2\" class=\"data row0 col2\" >-0%</td>\n",
       "            </tr>\n",
       "            <tr>\n",
       "                        <th id=\"T_b97a581c_b23b_11ea_ad1f_acde48001122level0_row1\" class=\"row_heading level0 row1\" >benchmark_median_price_per_post_code</th>\n",
       "                        <td id=\"T_b97a581c_b23b_11ea_ad1f_acde48001122row1_col0\" class=\"data row1 col0\" >15182</td>\n",
       "                        <td id=\"T_b97a581c_b23b_11ea_ad1f_acde48001122row1_col1\" class=\"data row1 col1\" >24%</td>\n",
       "                        <td id=\"T_b97a581c_b23b_11ea_ad1f_acde48001122row1_col2\" class=\"data row1 col2\" >15%</td>\n",
       "            </tr>\n",
       "            <tr>\n",
       "                        <th id=\"T_b97a581c_b23b_11ea_ad1f_acde48001122level0_row2\" class=\"row_heading level0 row2\" >linear_regression</th>\n",
       "                        <td id=\"T_b97a581c_b23b_11ea_ad1f_acde48001122row2_col0\" class=\"data row2 col0\" >13638</td>\n",
       "                        <td id=\"T_b97a581c_b23b_11ea_ad1f_acde48001122row2_col1\" class=\"data row2 col1\" >20%</td>\n",
       "                        <td id=\"T_b97a581c_b23b_11ea_ad1f_acde48001122row2_col2\" class=\"data row2 col2\" >29%</td>\n",
       "            </tr>\n",
       "            <tr>\n",
       "                        <th id=\"T_b97a581c_b23b_11ea_ad1f_acde48001122level0_row3\" class=\"row_heading level0 row3\" >gradient_boosting_regressor</th>\n",
       "                        <td id=\"T_b97a581c_b23b_11ea_ad1f_acde48001122row3_col0\" class=\"data row3 col0\" >11120</td>\n",
       "                        <td id=\"T_b97a581c_b23b_11ea_ad1f_acde48001122row3_col1\" class=\"data row3 col1\" >16%</td>\n",
       "                        <td id=\"T_b97a581c_b23b_11ea_ad1f_acde48001122row3_col2\" class=\"data row3 col2\" >39%</td>\n",
       "            </tr>\n",
       "            <tr>\n",
       "                        <th id=\"T_b97a581c_b23b_11ea_ad1f_acde48001122level0_row4\" class=\"row_heading level0 row4\" >wide_and_deep_model</th>\n",
       "                        <td id=\"T_b97a581c_b23b_11ea_ad1f_acde48001122row4_col0\" class=\"data row4 col0\" >9791</td>\n",
       "                        <td id=\"T_b97a581c_b23b_11ea_ad1f_acde48001122row4_col1\" class=\"data row4 col1\" >14%</td>\n",
       "                        <td id=\"T_b97a581c_b23b_11ea_ad1f_acde48001122row4_col2\" class=\"data row4 col2\" >57%</td>\n",
       "            </tr>\n",
       "    </tbody></table>"
      ],
      "text/plain": [
       "<pandas.io.formats.style.Styler at 0x14f02b090>"
      ]
     },
     "execution_count": 146,
     "metadata": {},
     "output_type": "execute_result"
    }
   ],
   "source": [
    "pd.DataFrame(metrics_list).set_index('model').style.format(style_format)"
   ]
  },
  {
   "cell_type": "code",
   "execution_count": null,
   "metadata": {},
   "outputs": [],
   "source": []
  }
 ],
 "metadata": {
  "kernelspec": {
   "display_name": "Python 3",
   "language": "python",
   "name": "python3"
  },
  "language_info": {
   "codemirror_mode": {
    "name": "ipython",
    "version": 3
   },
   "file_extension": ".py",
   "mimetype": "text/x-python",
   "name": "python",
   "nbconvert_exporter": "python",
   "pygments_lexer": "ipython3",
   "version": "3.7.6"
  }
 },
 "nbformat": 4,
 "nbformat_minor": 4
}
