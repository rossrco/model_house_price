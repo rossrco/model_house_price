{
 "cells": [
  {
   "cell_type": "code",
   "execution_count": 1,
   "metadata": {},
   "outputs": [],
   "source": [
    "import re\n",
    "import json\n",
    "import pandas as pd\n",
    "import numpy as np\n",
    "import google.cloud.bigquery as bq\n",
    "import tensorflow as tf\n",
    "from tensorflow import keras\n",
    "from sklearn import model_selection\n",
    "from sklearn import metrics\n",
    "from sklearn import impute\n",
    "from sklearn import pipeline\n",
    "from sklearn import preprocessing\n",
    "from sklearn import compose\n",
    "from sklearn import linear_model\n",
    "from sklearn import ensemble\n",
    "from sklearn import feature_extraction\n",
    "from category_encoders import target_encoder\n",
    "import matplotlib.pyplot as plt"
   ]
  },
  {
   "cell_type": "markdown",
   "metadata": {},
   "source": [
    "### Ingest Data"
   ]
  },
  {
   "cell_type": "code",
   "execution_count": 2,
   "metadata": {},
   "outputs": [],
   "source": [
    "%load_ext google.cloud.bigquery"
   ]
  },
  {
   "cell_type": "code",
   "execution_count": 3,
   "metadata": {},
   "outputs": [],
   "source": [
    "%%bigquery data\n",
    "SELECT\n",
    "  *\n",
    "FROM `curious-bot.homes.ad_details`\n",
    "WHERE price_per_sq_m IS NOT NULL\n",
    "  AND post_code IS NOT NULL"
   ]
  },
  {
   "cell_type": "code",
   "execution_count": 4,
   "metadata": {},
   "outputs": [],
   "source": [
    "data.set_index('id', inplace=True)"
   ]
  },
  {
   "cell_type": "code",
   "execution_count": 5,
   "metadata": {},
   "outputs": [
    {
     "name": "stdout",
     "output_type": "stream",
     "text": [
      "<class 'pandas.core.frame.DataFrame'>\n",
      "Index: 8827 entries, 594f0b01-2f6a-4f93-a6ec-ee12858f1fa0 to 4b275be0-cef5-4ce5-91ff-29d61f37a956\n",
      "Data columns (total 16 columns):\n",
      "new_building      8827 non-null bool\n",
      "promoted          8827 non-null bool\n",
      "price             8827 non-null int64\n",
      "area              8827 non-null int64\n",
      "price_per_sq_m    8827 non-null int64\n",
      "type              8827 non-null object\n",
      "viewed            8827 non-null datetime64[ns, UTC]\n",
      "address           8827 non-null object\n",
      "post_code         8827 non-null object\n",
      "street_num        8814 non-null object\n",
      "street_name       8823 non-null object\n",
      "postal_town       8827 non-null object\n",
      "country           8827 non-null object\n",
      "lat               8827 non-null float64\n",
      "lng               8827 non-null float64\n",
      "short_desc        8827 non-null object\n",
      "dtypes: bool(2), datetime64[ns, UTC](1), float64(2), int64(3), object(8)\n",
      "memory usage: 1.0+ MB\n"
     ]
    }
   ],
   "source": [
    "data.info()"
   ]
  },
  {
   "cell_type": "markdown",
   "metadata": {},
   "source": [
    "### Define Utils"
   ]
  },
  {
   "cell_type": "code",
   "execution_count": 6,
   "metadata": {},
   "outputs": [],
   "source": [
    "def demo(dataset, feature_col):\n",
    "    example = next(iter(dataset))[0]\n",
    "    feature_layer = tf.keras.layers.DenseFeatures(feature_col)\n",
    "    return feature_layer(example).numpy()\n",
    "\n",
    "def input_to_estimator(X, y, batch_size):\n",
    "    ds = tf.data.Dataset.from_tensor_slices((dict(X), y))\n",
    "    return ds.batch(batch_size)\n",
    "\n",
    "def mean_absolute_prc_error(y_true, y_pred):\n",
    "    return np.mean(np.abs((y_true - y_pred) / y_true))\n",
    "\n",
    "def get_metrics(y_true, y_pred, model_name):\n",
    "    mae = metrics.mean_absolute_error(y_test, y_pred)\n",
    "    mape = mean_absolute_prc_error(y_test, y_pred)\n",
    "    r2 = metrics.r2_score(y_test, y_pred)\n",
    "    return {'model': model_name, 'mae': mae, 'mape': mape, 'r2': r2}"
   ]
  },
  {
   "cell_type": "markdown",
   "metadata": {},
   "source": [
    "### Hyperparameters"
   ]
  },
  {
   "cell_type": "code",
   "execution_count": 7,
   "metadata": {},
   "outputs": [],
   "source": [
    "random_seed = 42\n",
    "test_size = 0.3\n",
    "batch_size = 300\n",
    "n_area_bins = 5\n",
    "min_points_per_post_code = 20"
   ]
  },
  {
   "cell_type": "markdown",
   "metadata": {},
   "source": [
    "### Prepare Train And Test Datasets"
   ]
  },
  {
   "cell_type": "code",
   "execution_count": 8,
   "metadata": {},
   "outputs": [],
   "source": [
    "X_cols = ['new_building', 'promoted', 'area', 'type', 'post_code']\n",
    "\n",
    "X = data[X_cols]\n",
    "y = data.price_per_sq_m\n",
    "\n",
    "data_train, data_test = model_selection.train_test_split(data,\n",
    "                                                         test_size=test_size,\n",
    "                                                         random_state=random_seed)\n",
    "\n",
    "X_train, X_test = data_train[X_cols], data_test[X_cols]\n",
    "y_train, y_test = data_train.price_per_sq_m, data_test.price_per_sq_m\n",
    "\n",
    "ds_train = input_to_estimator(X_train, y_train, batch_size)\n",
    "ds_test = input_to_estimator(X_test, y_test, batch_size)"
   ]
  },
  {
   "cell_type": "markdown",
   "metadata": {},
   "source": [
    "### Benchmark Median Price Per Square Meter"
   ]
  },
  {
   "cell_type": "code",
   "execution_count": 9,
   "metadata": {},
   "outputs": [],
   "source": [
    "metrics_list = []\n",
    "style_format = {'mae': '{:.0f}', 'mape': '{:.0%}', 'r2': '{:.0%}'}"
   ]
  },
  {
   "cell_type": "code",
   "execution_count": 10,
   "metadata": {},
   "outputs": [],
   "source": [
    "y_pred = [y_train.median()] * len(y_test)\n",
    "metrics_list.append(get_metrics(y_test, y_pred, 'benchmark_median_price'))"
   ]
  },
  {
   "cell_type": "code",
   "execution_count": 11,
   "metadata": {},
   "outputs": [
    {
     "data": {
      "text/html": [
       "<style  type=\"text/css\" >\n",
       "</style><table id=\"T_604477d6_bf8e_11ea_b008_acde48001122\" ><thead>    <tr>        <th class=\"blank level0\" ></th>        <th class=\"col_heading level0 col0\" >mae</th>        <th class=\"col_heading level0 col1\" >mape</th>        <th class=\"col_heading level0 col2\" >r2</th>    </tr>    <tr>        <th class=\"index_name level0\" >model</th>        <th class=\"blank\" ></th>        <th class=\"blank\" ></th>        <th class=\"blank\" ></th>    </tr></thead><tbody>\n",
       "                <tr>\n",
       "                        <th id=\"T_604477d6_bf8e_11ea_b008_acde48001122level0_row0\" class=\"row_heading level0 row0\" >benchmark_median_price</th>\n",
       "                        <td id=\"T_604477d6_bf8e_11ea_b008_acde48001122row0_col0\" class=\"data row0 col0\" >17374</td>\n",
       "                        <td id=\"T_604477d6_bf8e_11ea_b008_acde48001122row0_col1\" class=\"data row0 col1\" >26%</td>\n",
       "                        <td id=\"T_604477d6_bf8e_11ea_b008_acde48001122row0_col2\" class=\"data row0 col2\" >-0%</td>\n",
       "            </tr>\n",
       "    </tbody></table>"
      ],
      "text/plain": [
       "<pandas.io.formats.style.Styler at 0x152a6be50>"
      ]
     },
     "execution_count": 11,
     "metadata": {},
     "output_type": "execute_result"
    }
   ],
   "source": [
    "pd.DataFrame(metrics_list).set_index('model').style.format(style_format)"
   ]
  },
  {
   "cell_type": "markdown",
   "metadata": {},
   "source": [
    "### Benchmark Median Price Per Square Meter Per Post Code"
   ]
  },
  {
   "cell_type": "code",
   "execution_count": 12,
   "metadata": {},
   "outputs": [],
   "source": [
    "med_price_post_code = data_train.groupby('post_code').price_per_sq_m.median()\n",
    "count_post_code = data_train.groupby('post_code').price_per_sq_m.count()"
   ]
  },
  {
   "cell_type": "code",
   "execution_count": 13,
   "metadata": {},
   "outputs": [],
   "source": [
    "post_codes_above_min_points = count_post_code[count_post_code > min_points_per_post_code].index"
   ]
  },
  {
   "cell_type": "code",
   "execution_count": 14,
   "metadata": {},
   "outputs": [],
   "source": [
    "med_price_post_code_sel = med_price_post_code.loc[post_codes_above_min_points]\n",
    "med_price_post_code_sel.rename('post_code_median_price', inplace=True)\n",
    "\n",
    "y_pred = data_test.merge(med_price_post_code_sel,\n",
    "                         how='left',\n",
    "                         left_on='post_code',\n",
    "                         right_index=True).post_code_median_price\n",
    "\n",
    "y_pred.fillna(y_train.median(), inplace=True)"
   ]
  },
  {
   "cell_type": "code",
   "execution_count": 15,
   "metadata": {},
   "outputs": [],
   "source": [
    "metrics_list.append(get_metrics(y_test, y_pred, 'benchmark_median_price_per_post_code'))"
   ]
  },
  {
   "cell_type": "code",
   "execution_count": 16,
   "metadata": {},
   "outputs": [
    {
     "data": {
      "text/html": [
       "<style  type=\"text/css\" >\n",
       "</style><table id=\"T_604bb712_bf8e_11ea_b008_acde48001122\" ><thead>    <tr>        <th class=\"blank level0\" ></th>        <th class=\"col_heading level0 col0\" >mae</th>        <th class=\"col_heading level0 col1\" >mape</th>        <th class=\"col_heading level0 col2\" >r2</th>    </tr>    <tr>        <th class=\"index_name level0\" >model</th>        <th class=\"blank\" ></th>        <th class=\"blank\" ></th>        <th class=\"blank\" ></th>    </tr></thead><tbody>\n",
       "                <tr>\n",
       "                        <th id=\"T_604bb712_bf8e_11ea_b008_acde48001122level0_row0\" class=\"row_heading level0 row0\" >benchmark_median_price</th>\n",
       "                        <td id=\"T_604bb712_bf8e_11ea_b008_acde48001122row0_col0\" class=\"data row0 col0\" >17374</td>\n",
       "                        <td id=\"T_604bb712_bf8e_11ea_b008_acde48001122row0_col1\" class=\"data row0 col1\" >26%</td>\n",
       "                        <td id=\"T_604bb712_bf8e_11ea_b008_acde48001122row0_col2\" class=\"data row0 col2\" >-0%</td>\n",
       "            </tr>\n",
       "            <tr>\n",
       "                        <th id=\"T_604bb712_bf8e_11ea_b008_acde48001122level0_row1\" class=\"row_heading level0 row1\" >benchmark_median_price_per_post_code</th>\n",
       "                        <td id=\"T_604bb712_bf8e_11ea_b008_acde48001122row1_col0\" class=\"data row1 col0\" >15129</td>\n",
       "                        <td id=\"T_604bb712_bf8e_11ea_b008_acde48001122row1_col1\" class=\"data row1 col1\" >24%</td>\n",
       "                        <td id=\"T_604bb712_bf8e_11ea_b008_acde48001122row1_col2\" class=\"data row1 col2\" >12%</td>\n",
       "            </tr>\n",
       "    </tbody></table>"
      ],
      "text/plain": [
       "<pandas.io.formats.style.Styler at 0x152d299d0>"
      ]
     },
     "execution_count": 16,
     "metadata": {},
     "output_type": "execute_result"
    }
   ],
   "source": [
    "pd.DataFrame(metrics_list).set_index('model').style.format(style_format)"
   ]
  },
  {
   "cell_type": "markdown",
   "metadata": {},
   "source": [
    "### Linear Regression"
   ]
  },
  {
   "cell_type": "code",
   "execution_count": 17,
   "metadata": {},
   "outputs": [],
   "source": [
    "cat_transformer = pipeline.Pipeline(steps=[\n",
    "    ('imputer', impute.SimpleImputer(strategy='constant', fill_value='unknown')),\n",
    "    ('target_enc', target_encoder.TargetEncoder(handle_unknown='ignore'))\n",
    "])\n",
    "\n",
    "num_transformer = pipeline.Pipeline(steps=[\n",
    "    ('imputer', impute.SimpleImputer(strategy='median')),\n",
    "    ('bucketize', preprocessing.KBinsDiscretizer(n_bins=n_area_bins))\n",
    "])\n",
    "\n",
    "preprocessor = compose.ColumnTransformer(transformers=[\n",
    "    ('cat_transf', cat_transformer, ['post_code']),\n",
    "    ('num_transf', num_transformer, ['area'])\n",
    "])\n",
    "\n",
    "linreg = pipeline.Pipeline(steps=[\n",
    "    ('preprocessor', preprocessor),\n",
    "    ('linear_reg', linear_model.LinearRegression())\n",
    "])"
   ]
  },
  {
   "cell_type": "code",
   "execution_count": 18,
   "metadata": {},
   "outputs": [
    {
     "data": {
      "text/plain": [
       "Pipeline(memory=None,\n",
       "         steps=[('preprocessor',\n",
       "                 ColumnTransformer(n_jobs=None, remainder='drop',\n",
       "                                   sparse_threshold=0.3,\n",
       "                                   transformer_weights=None,\n",
       "                                   transformers=[('cat_transf',\n",
       "                                                  Pipeline(memory=None,\n",
       "                                                           steps=[('imputer',\n",
       "                                                                   SimpleImputer(add_indicator=False,\n",
       "                                                                                 copy=True,\n",
       "                                                                                 fill_value='unknown',\n",
       "                                                                                 missing_values=nan,\n",
       "                                                                                 strategy='constant',\n",
       "                                                                                 verbose=0)),\n",
       "                                                                  ('target_enc',\n",
       "                                                                   TargetEncoder(co...\n",
       "                                                           steps=[('imputer',\n",
       "                                                                   SimpleImputer(add_indicator=False,\n",
       "                                                                                 copy=True,\n",
       "                                                                                 fill_value=None,\n",
       "                                                                                 missing_values=nan,\n",
       "                                                                                 strategy='median',\n",
       "                                                                                 verbose=0)),\n",
       "                                                                  ('bucketize',\n",
       "                                                                   KBinsDiscretizer(encode='onehot',\n",
       "                                                                                    n_bins=5,\n",
       "                                                                                    strategy='quantile'))],\n",
       "                                                           verbose=False),\n",
       "                                                  ['area'])],\n",
       "                                   verbose=False)),\n",
       "                ('linear_reg',\n",
       "                 LinearRegression(copy_X=True, fit_intercept=True, n_jobs=None,\n",
       "                                  normalize=False))],\n",
       "         verbose=False)"
      ]
     },
     "execution_count": 18,
     "metadata": {},
     "output_type": "execute_result"
    }
   ],
   "source": [
    "linreg.fit(X_train, y_train)"
   ]
  },
  {
   "cell_type": "code",
   "execution_count": 19,
   "metadata": {},
   "outputs": [],
   "source": [
    "y_pred = linreg.predict(X_test)\n",
    "metrics_list.append(get_metrics(y_test, y_pred, 'linear_regression'))"
   ]
  },
  {
   "cell_type": "code",
   "execution_count": 20,
   "metadata": {},
   "outputs": [
    {
     "data": {
      "text/html": [
       "<style  type=\"text/css\" >\n",
       "</style><table id=\"T_605c06da_bf8e_11ea_b008_acde48001122\" ><thead>    <tr>        <th class=\"blank level0\" ></th>        <th class=\"col_heading level0 col0\" >mae</th>        <th class=\"col_heading level0 col1\" >mape</th>        <th class=\"col_heading level0 col2\" >r2</th>    </tr>    <tr>        <th class=\"index_name level0\" >model</th>        <th class=\"blank\" ></th>        <th class=\"blank\" ></th>        <th class=\"blank\" ></th>    </tr></thead><tbody>\n",
       "                <tr>\n",
       "                        <th id=\"T_605c06da_bf8e_11ea_b008_acde48001122level0_row0\" class=\"row_heading level0 row0\" >benchmark_median_price</th>\n",
       "                        <td id=\"T_605c06da_bf8e_11ea_b008_acde48001122row0_col0\" class=\"data row0 col0\" >17374</td>\n",
       "                        <td id=\"T_605c06da_bf8e_11ea_b008_acde48001122row0_col1\" class=\"data row0 col1\" >26%</td>\n",
       "                        <td id=\"T_605c06da_bf8e_11ea_b008_acde48001122row0_col2\" class=\"data row0 col2\" >-0%</td>\n",
       "            </tr>\n",
       "            <tr>\n",
       "                        <th id=\"T_605c06da_bf8e_11ea_b008_acde48001122level0_row1\" class=\"row_heading level0 row1\" >benchmark_median_price_per_post_code</th>\n",
       "                        <td id=\"T_605c06da_bf8e_11ea_b008_acde48001122row1_col0\" class=\"data row1 col0\" >15129</td>\n",
       "                        <td id=\"T_605c06da_bf8e_11ea_b008_acde48001122row1_col1\" class=\"data row1 col1\" >24%</td>\n",
       "                        <td id=\"T_605c06da_bf8e_11ea_b008_acde48001122row1_col2\" class=\"data row1 col2\" >12%</td>\n",
       "            </tr>\n",
       "            <tr>\n",
       "                        <th id=\"T_605c06da_bf8e_11ea_b008_acde48001122level0_row2\" class=\"row_heading level0 row2\" >linear_regression</th>\n",
       "                        <td id=\"T_605c06da_bf8e_11ea_b008_acde48001122row2_col0\" class=\"data row2 col0\" >14228</td>\n",
       "                        <td id=\"T_605c06da_bf8e_11ea_b008_acde48001122row2_col1\" class=\"data row2 col1\" >21%</td>\n",
       "                        <td id=\"T_605c06da_bf8e_11ea_b008_acde48001122row2_col2\" class=\"data row2 col2\" >15%</td>\n",
       "            </tr>\n",
       "    </tbody></table>"
      ],
      "text/plain": [
       "<pandas.io.formats.style.Styler at 0x152db02d0>"
      ]
     },
     "execution_count": 20,
     "metadata": {},
     "output_type": "execute_result"
    }
   ],
   "source": [
    "pd.DataFrame(metrics_list).set_index('model').style.format(style_format)"
   ]
  },
  {
   "cell_type": "markdown",
   "metadata": {},
   "source": [
    "### Gradient Boosting Regressor"
   ]
  },
  {
   "cell_type": "code",
   "execution_count": 21,
   "metadata": {},
   "outputs": [],
   "source": [
    "boostreg = pipeline.Pipeline(steps=[\n",
    "    ('preprocessor', preprocessor),\n",
    "    ('linear_reg', ensemble.GradientBoostingRegressor())\n",
    "])"
   ]
  },
  {
   "cell_type": "code",
   "execution_count": 22,
   "metadata": {},
   "outputs": [
    {
     "data": {
      "text/plain": [
       "Pipeline(memory=None,\n",
       "         steps=[('preprocessor',\n",
       "                 ColumnTransformer(n_jobs=None, remainder='drop',\n",
       "                                   sparse_threshold=0.3,\n",
       "                                   transformer_weights=None,\n",
       "                                   transformers=[('cat_transf',\n",
       "                                                  Pipeline(memory=None,\n",
       "                                                           steps=[('imputer',\n",
       "                                                                   SimpleImputer(add_indicator=False,\n",
       "                                                                                 copy=True,\n",
       "                                                                                 fill_value='unknown',\n",
       "                                                                                 missing_values=nan,\n",
       "                                                                                 strategy='constant',\n",
       "                                                                                 verbose=0)),\n",
       "                                                                  ('target_enc',\n",
       "                                                                   TargetEncoder(co...\n",
       "                                           learning_rate=0.1, loss='ls',\n",
       "                                           max_depth=3, max_features=None,\n",
       "                                           max_leaf_nodes=None,\n",
       "                                           min_impurity_decrease=0.0,\n",
       "                                           min_impurity_split=None,\n",
       "                                           min_samples_leaf=1,\n",
       "                                           min_samples_split=2,\n",
       "                                           min_weight_fraction_leaf=0.0,\n",
       "                                           n_estimators=100,\n",
       "                                           n_iter_no_change=None,\n",
       "                                           presort='deprecated',\n",
       "                                           random_state=None, subsample=1.0,\n",
       "                                           tol=0.0001, validation_fraction=0.1,\n",
       "                                           verbose=0, warm_start=False))],\n",
       "         verbose=False)"
      ]
     },
     "execution_count": 22,
     "metadata": {},
     "output_type": "execute_result"
    }
   ],
   "source": [
    "boostreg.fit(X_train, y_train)"
   ]
  },
  {
   "cell_type": "code",
   "execution_count": 23,
   "metadata": {},
   "outputs": [],
   "source": [
    "y_pred = boostreg.predict(X_test)\n",
    "metrics_list.append(get_metrics(y_test, y_pred, 'gradient_boosting_regressor'))"
   ]
  },
  {
   "cell_type": "code",
   "execution_count": 24,
   "metadata": {},
   "outputs": [
    {
     "data": {
      "text/html": [
       "<style  type=\"text/css\" >\n",
       "</style><table id=\"T_608f2a42_bf8e_11ea_b008_acde48001122\" ><thead>    <tr>        <th class=\"blank level0\" ></th>        <th class=\"col_heading level0 col0\" >mae</th>        <th class=\"col_heading level0 col1\" >mape</th>        <th class=\"col_heading level0 col2\" >r2</th>    </tr>    <tr>        <th class=\"index_name level0\" >model</th>        <th class=\"blank\" ></th>        <th class=\"blank\" ></th>        <th class=\"blank\" ></th>    </tr></thead><tbody>\n",
       "                <tr>\n",
       "                        <th id=\"T_608f2a42_bf8e_11ea_b008_acde48001122level0_row0\" class=\"row_heading level0 row0\" >benchmark_median_price</th>\n",
       "                        <td id=\"T_608f2a42_bf8e_11ea_b008_acde48001122row0_col0\" class=\"data row0 col0\" >17374</td>\n",
       "                        <td id=\"T_608f2a42_bf8e_11ea_b008_acde48001122row0_col1\" class=\"data row0 col1\" >26%</td>\n",
       "                        <td id=\"T_608f2a42_bf8e_11ea_b008_acde48001122row0_col2\" class=\"data row0 col2\" >-0%</td>\n",
       "            </tr>\n",
       "            <tr>\n",
       "                        <th id=\"T_608f2a42_bf8e_11ea_b008_acde48001122level0_row1\" class=\"row_heading level0 row1\" >benchmark_median_price_per_post_code</th>\n",
       "                        <td id=\"T_608f2a42_bf8e_11ea_b008_acde48001122row1_col0\" class=\"data row1 col0\" >15129</td>\n",
       "                        <td id=\"T_608f2a42_bf8e_11ea_b008_acde48001122row1_col1\" class=\"data row1 col1\" >24%</td>\n",
       "                        <td id=\"T_608f2a42_bf8e_11ea_b008_acde48001122row1_col2\" class=\"data row1 col2\" >12%</td>\n",
       "            </tr>\n",
       "            <tr>\n",
       "                        <th id=\"T_608f2a42_bf8e_11ea_b008_acde48001122level0_row2\" class=\"row_heading level0 row2\" >linear_regression</th>\n",
       "                        <td id=\"T_608f2a42_bf8e_11ea_b008_acde48001122row2_col0\" class=\"data row2 col0\" >14228</td>\n",
       "                        <td id=\"T_608f2a42_bf8e_11ea_b008_acde48001122row2_col1\" class=\"data row2 col1\" >21%</td>\n",
       "                        <td id=\"T_608f2a42_bf8e_11ea_b008_acde48001122row2_col2\" class=\"data row2 col2\" >15%</td>\n",
       "            </tr>\n",
       "            <tr>\n",
       "                        <th id=\"T_608f2a42_bf8e_11ea_b008_acde48001122level0_row3\" class=\"row_heading level0 row3\" >gradient_boosting_regressor</th>\n",
       "                        <td id=\"T_608f2a42_bf8e_11ea_b008_acde48001122row3_col0\" class=\"data row3 col0\" >11547</td>\n",
       "                        <td id=\"T_608f2a42_bf8e_11ea_b008_acde48001122row3_col1\" class=\"data row3 col1\" >16%</td>\n",
       "                        <td id=\"T_608f2a42_bf8e_11ea_b008_acde48001122row3_col2\" class=\"data row3 col2\" >26%</td>\n",
       "            </tr>\n",
       "    </tbody></table>"
      ],
      "text/plain": [
       "<pandas.io.formats.style.Styler at 0x152dd2210>"
      ]
     },
     "execution_count": 24,
     "metadata": {},
     "output_type": "execute_result"
    }
   ],
   "source": [
    "pd.DataFrame(metrics_list).set_index('model').style.format(style_format)"
   ]
  },
  {
   "cell_type": "markdown",
   "metadata": {},
   "source": [
    "### Deep Neural Network Regressor"
   ]
  },
  {
   "cell_type": "code",
   "execution_count": 25,
   "metadata": {},
   "outputs": [],
   "source": [
    "area_bins = list(range(30, 180, 30))\n",
    "all_post_codes = list(X_train.post_code.unique())\n",
    "\n",
    "area = tf.feature_column.numeric_column('area')\n",
    "area_bucket = tf.feature_column.bucketized_column(area, boundaries=area_bins)\n",
    "\n",
    "promoted = tf.feature_column.numeric_column('promoted')\n",
    "\n",
    "new_building = tf.feature_column.numeric_column('new_building')\n",
    "\n",
    "real_est_type = tf.feature_column.categorical_column_with_vocabulary_list('type', ['apartment', 'semi_detached', 'terraced', 'detached'])\n",
    "real_est_type_1_hot = tf.feature_column.indicator_column(real_est_type)\n",
    "\n",
    "\n",
    "post_code = tf.feature_column.categorical_column_with_vocabulary_list('post_code', all_post_codes)\n",
    "post_code_embedding = tf.feature_column.embedding_column(post_code, dimension=20)\n",
    "post_code_hash = tf.feature_column.categorical_column_with_hash_bucket('post_code', 50)\n",
    "post_code_hash_ind = tf.feature_column.indicator_column(post_code_hash)\n",
    "\n",
    "real_est_type_x_area_bucket = tf.feature_column.crossed_column([real_est_type, area_bucket], hash_bucket_size=20)\n",
    "real_est_type_x_area_bucket_1_hot = tf.feature_column.indicator_column(real_est_type_x_area_bucket)\n",
    "\n",
    "post_code_embedding_x_area_bucket = tf.feature_column.crossed_column([post_code, area_bucket], hash_bucket_size=200)\n",
    "post_code_embedding_x_area_bucket_1_hot = tf.feature_column.indicator_column(post_code_embedding_x_area_bucket)\n",
    "\n",
    "post_code_embedding_x_real_est_type = tf.feature_column.crossed_column([post_code, real_est_type], hash_bucket_size=100)\n",
    "post_code_embedding_x_real_est_type_1_hot = tf.feature_column.indicator_column(post_code_embedding_x_real_est_type)\n",
    "\n",
    "wide = [area, promoted, new_building, real_est_type_1_hot,\n",
    "        post_code_hash_ind, real_est_type_x_area_bucket_1_hot,\n",
    "        post_code_embedding_x_area_bucket_1_hot,\n",
    "        post_code_embedding_x_real_est_type_1_hot]\n",
    "\n",
    "deep = [area_bucket, post_code_embedding,\n",
    "        real_est_type_x_area_bucket_1_hot,\n",
    "        post_code_embedding_x_area_bucket_1_hot,\n",
    "        post_code_embedding_x_real_est_type_1_hot]"
   ]
  },
  {
   "cell_type": "code",
   "execution_count": 26,
   "metadata": {},
   "outputs": [],
   "source": [
    "features = [area_bucket, promoted, new_building,\n",
    "            real_est_type_1_hot, post_code_embedding,\n",
    "            real_est_type_x_area_bucket_1_hot,\n",
    "            post_code_embedding_x_area_bucket_1_hot,\n",
    "            post_code_embedding_x_real_est_type_1_hot]\n",
    "\n",
    "feature_layer = tf.keras.layers.DenseFeatures(features)"
   ]
  },
  {
   "cell_type": "code",
   "execution_count": 27,
   "metadata": {},
   "outputs": [
    {
     "name": "stdout",
     "output_type": "stream",
     "text": [
      "WARNING:tensorflow:From /Users/ruslan.kozhuharov/venvs/tf/lib/python3.7/site-packages/tensorflow_core/python/feature_column/feature_column_v2.py:4267: IndicatorColumn._variable_shape (from tensorflow.python.feature_column.feature_column_v2) is deprecated and will be removed in a future version.\n",
      "Instructions for updating:\n",
      "The old _FeatureColumn APIs are being deprecated. Please use the new FeatureColumn APIs instead.\n",
      "WARNING:tensorflow:From /Users/ruslan.kozhuharov/venvs/tf/lib/python3.7/site-packages/tensorflow_core/python/feature_column/feature_column_v2.py:4322: CrossedColumn._num_buckets (from tensorflow.python.feature_column.feature_column_v2) is deprecated and will be removed in a future version.\n",
      "Instructions for updating:\n",
      "The old _FeatureColumn APIs are being deprecated. Please use the new FeatureColumn APIs instead.\n",
      "WARNING:tensorflow:From /Users/ruslan.kozhuharov/venvs/tf/lib/python3.7/site-packages/tensorflow_core/python/feature_column/feature_column_v2.py:4322: VocabularyListCategoricalColumn._num_buckets (from tensorflow.python.feature_column.feature_column_v2) is deprecated and will be removed in a future version.\n",
      "Instructions for updating:\n",
      "The old _FeatureColumn APIs are being deprecated. Please use the new FeatureColumn APIs instead.\n",
      "CPU times: user 2min 34s, sys: 10.9 s, total: 2min 45s\n",
      "Wall time: 29.3 s\n"
     ]
    }
   ],
   "source": [
    "%%time\n",
    "\n",
    "model = tf.keras.Sequential([\n",
    "    feature_layer,\n",
    "    tf.keras.layers.Dense(1024, activation='relu'),\n",
    "    tf.keras.layers.Dense(512, activation='relu'),\n",
    "    tf.keras.layers.Dense(128, activation='relu'),\n",
    "    tf.keras.layers.Dense(1)\n",
    "])\n",
    "\n",
    "model.compile(optimizer='adam',\n",
    "              loss='mae',\n",
    "              metrics=['mse', 'mae', 'mean_absolute_percentage_error'])\n",
    "\n",
    "hist = model.fit(ds_train,\n",
    "                 validation_data=ds_test,\n",
    "                 epochs=100,\n",
    "                 verbose=0)"
   ]
  },
  {
   "cell_type": "code",
   "execution_count": 28,
   "metadata": {},
   "outputs": [
    {
     "data": {
      "image/png": "[encoded data removed]",
      "text/plain": [
       "<Figure size 432x288 with 1 Axes>"
      ]
     },
     "metadata": {
      "needs_background": "light"
     },
     "output_type": "display_data"
    }
   ],
   "source": [
    "plt.plot(hist.history['mae'], label='train')\n",
    "plt.plot(hist.history['val_mae'], label='valid')\n",
    "plt.legend()\n",
    "plt.show()"
   ]
  },
  {
   "cell_type": "code",
   "execution_count": 29,
   "metadata": {},
   "outputs": [],
   "source": [
    "y_pred = model.predict(ds_test)\n",
    "\n",
    "metrics_list.append(get_metrics(y_test, y_pred[:, 0], 'dnn_regressor'))"
   ]
  },
  {
   "cell_type": "code",
   "execution_count": 30,
   "metadata": {},
   "outputs": [
    {
     "data": {
      "text/html": [
       "<style  type=\"text/css\" >\n",
       "</style><table id=\"T_725d6c3e_bf8e_11ea_b008_acde48001122\" ><thead>    <tr>        <th class=\"blank level0\" ></th>        <th class=\"col_heading level0 col0\" >mae</th>        <th class=\"col_heading level0 col1\" >mape</th>        <th class=\"col_heading level0 col2\" >r2</th>    </tr>    <tr>        <th class=\"index_name level0\" >model</th>        <th class=\"blank\" ></th>        <th class=\"blank\" ></th>        <th class=\"blank\" ></th>    </tr></thead><tbody>\n",
       "                <tr>\n",
       "                        <th id=\"T_725d6c3e_bf8e_11ea_b008_acde48001122level0_row0\" class=\"row_heading level0 row0\" >benchmark_median_price</th>\n",
       "                        <td id=\"T_725d6c3e_bf8e_11ea_b008_acde48001122row0_col0\" class=\"data row0 col0\" >17374</td>\n",
       "                        <td id=\"T_725d6c3e_bf8e_11ea_b008_acde48001122row0_col1\" class=\"data row0 col1\" >26%</td>\n",
       "                        <td id=\"T_725d6c3e_bf8e_11ea_b008_acde48001122row0_col2\" class=\"data row0 col2\" >-0%</td>\n",
       "            </tr>\n",
       "            <tr>\n",
       "                        <th id=\"T_725d6c3e_bf8e_11ea_b008_acde48001122level0_row1\" class=\"row_heading level0 row1\" >benchmark_median_price_per_post_code</th>\n",
       "                        <td id=\"T_725d6c3e_bf8e_11ea_b008_acde48001122row1_col0\" class=\"data row1 col0\" >15129</td>\n",
       "                        <td id=\"T_725d6c3e_bf8e_11ea_b008_acde48001122row1_col1\" class=\"data row1 col1\" >24%</td>\n",
       "                        <td id=\"T_725d6c3e_bf8e_11ea_b008_acde48001122row1_col2\" class=\"data row1 col2\" >12%</td>\n",
       "            </tr>\n",
       "            <tr>\n",
       "                        <th id=\"T_725d6c3e_bf8e_11ea_b008_acde48001122level0_row2\" class=\"row_heading level0 row2\" >linear_regression</th>\n",
       "                        <td id=\"T_725d6c3e_bf8e_11ea_b008_acde48001122row2_col0\" class=\"data row2 col0\" >14228</td>\n",
       "                        <td id=\"T_725d6c3e_bf8e_11ea_b008_acde48001122row2_col1\" class=\"data row2 col1\" >21%</td>\n",
       "                        <td id=\"T_725d6c3e_bf8e_11ea_b008_acde48001122row2_col2\" class=\"data row2 col2\" >15%</td>\n",
       "            </tr>\n",
       "            <tr>\n",
       "                        <th id=\"T_725d6c3e_bf8e_11ea_b008_acde48001122level0_row3\" class=\"row_heading level0 row3\" >gradient_boosting_regressor</th>\n",
       "                        <td id=\"T_725d6c3e_bf8e_11ea_b008_acde48001122row3_col0\" class=\"data row3 col0\" >11547</td>\n",
       "                        <td id=\"T_725d6c3e_bf8e_11ea_b008_acde48001122row3_col1\" class=\"data row3 col1\" >16%</td>\n",
       "                        <td id=\"T_725d6c3e_bf8e_11ea_b008_acde48001122row3_col2\" class=\"data row3 col2\" >26%</td>\n",
       "            </tr>\n",
       "            <tr>\n",
       "                        <th id=\"T_725d6c3e_bf8e_11ea_b008_acde48001122level0_row4\" class=\"row_heading level0 row4\" >dnn_regressor</th>\n",
       "                        <td id=\"T_725d6c3e_bf8e_11ea_b008_acde48001122row4_col0\" class=\"data row4 col0\" >10328</td>\n",
       "                        <td id=\"T_725d6c3e_bf8e_11ea_b008_acde48001122row4_col1\" class=\"data row4 col1\" >14%</td>\n",
       "                        <td id=\"T_725d6c3e_bf8e_11ea_b008_acde48001122row4_col2\" class=\"data row4 col2\" >29%</td>\n",
       "            </tr>\n",
       "    </tbody></table>"
      ],
      "text/plain": [
       "<pandas.io.formats.style.Styler at 0x153b18f50>"
      ]
     },
     "execution_count": 30,
     "metadata": {},
     "output_type": "execute_result"
    }
   ],
   "source": [
    "pd.DataFrame(metrics_list).set_index('model').style.format(style_format)"
   ]
  },
  {
   "cell_type": "markdown",
   "metadata": {},
   "source": [
    "### Text Model"
   ]
  },
  {
   "cell_type": "code",
   "execution_count": 31,
   "metadata": {},
   "outputs": [],
   "source": [
    "stop_words = ['av', 'bak', 'blant', 'etter', 'for', 'fra',\n",
    "              'gjennom', 'hos', 'i', 'ifølge', 'innen',\n",
    "              'innenfor', 'med', 'mellom', 'mot', 'om',\n",
    "              'omkring', 'ovenfor', 'på', 'rundt', 'til',\n",
    "              'under', 'på grunn av', 'i henhold til',\n",
    "              'ved hjelp av', 'og', 'over', 'pa', 'etg',\n",
    "              'inkl', 'ingen', 'kvm']"
   ]
  },
  {
   "cell_type": "code",
   "execution_count": 32,
   "metadata": {},
   "outputs": [],
   "source": [
    "count_vect = feature_extraction.text.CountVectorizer(strip_accents='unicode',\n",
    "                                                     stop_words=stop_words,\n",
    "                                                     max_features=400,\n",
    "                                                     min_df=0.05,\n",
    "                                                     max_df=0.95\n",
    "                                                    )"
   ]
  },
  {
   "cell_type": "code",
   "execution_count": 33,
   "metadata": {},
   "outputs": [
    {
     "name": "stderr",
     "output_type": "stream",
     "text": [
      "/Users/ruslan.kozhuharov/venvs/tf/lib/python3.7/site-packages/sklearn/feature_extraction/text.py:385: UserWarning: Your stop_words may be inconsistent with your preprocessing. Tokenizing the stop words generated tokens ['grunn', 'henhold', 'hjelp', 'ved'] not in stop_words.\n",
      "  'stop_words.' % sorted(inconsistent))\n"
     ]
    },
    {
     "data": {
      "text/plain": [
       "CountVectorizer(analyzer='word', binary=False, decode_error='strict',\n",
       "                dtype=<class 'numpy.int64'>, encoding='utf-8', input='content',\n",
       "                lowercase=True, max_df=0.95, max_features=400, min_df=0.05,\n",
       "                ngram_range=(1, 1), preprocessor=None,\n",
       "                stop_words=['av', 'bak', 'blant', 'etter', 'for', 'fra',\n",
       "                            'gjennom', 'hos', 'i', 'ifølge', 'innen',\n",
       "                            'innenfor', 'med', 'mellom', 'mot', 'om', 'omkring',\n",
       "                            'ovenfor', 'på', 'rundt', 'til', 'under',\n",
       "                            'på grunn av', 'i henhold til', 'ved hjelp av',\n",
       "                            'og', 'over', 'pa', 'etg', 'inkl', ...],\n",
       "                strip_accents='unicode', token_pattern='(?u)\\\\b\\\\w\\\\w+\\\\b',\n",
       "                tokenizer=None, vocabulary=None)"
      ]
     },
     "execution_count": 33,
     "metadata": {},
     "output_type": "execute_result"
    }
   ],
   "source": [
    "count_vect.fit(data_train.short_desc)"
   ]
  },
  {
   "cell_type": "code",
   "execution_count": 34,
   "metadata": {},
   "outputs": [],
   "source": [
    "vocab = pd.Series(count_vect.vocabulary_).sort_values().to_frame().transpose().columns.to_list()"
   ]
  },
  {
   "cell_type": "code",
   "execution_count": 35,
   "metadata": {},
   "outputs": [
    {
     "data": {
      "text/plain": [
       "['attraktiv',\n",
       " 'bad',\n",
       " 'balkong',\n",
       " 'barnevennlig',\n",
       " 'beliggenhet',\n",
       " 'felles',\n",
       " 'flott',\n",
       " 'fyring',\n",
       " 'garasje',\n",
       " 'garasjeplass',\n",
       " 'gjennomgaende',\n",
       " 'god',\n",
       " 'grunerløkka',\n",
       " 'hage',\n",
       " 'heis',\n",
       " 'hjørneleilighet',\n",
       " 'høy',\n",
       " 'kjøkken',\n",
       " 'klassisk',\n",
       " 'lave',\n",
       " 'leilighet',\n",
       " 'lekker',\n",
       " 'lys',\n",
       " 'meget',\n",
       " 'moderne',\n",
       " 'peis',\n",
       " 'pen',\n",
       " 'plan',\n",
       " 'planløsning',\n",
       " 'rolig',\n",
       " 'roms',\n",
       " 'romslig',\n",
       " 'selveier',\n",
       " 'sentralt',\n",
       " 'solrik',\n",
       " 'standard',\n",
       " 'stor',\n",
       " 'takhøyde',\n",
       " 'takterrasse',\n",
       " 'terrasse',\n",
       " 'to',\n",
       " 'toppleilighet',\n",
       " 'utsikt',\n",
       " 'varmtvann',\n",
       " 'vestvendt']"
      ]
     },
     "execution_count": 35,
     "metadata": {},
     "output_type": "execute_result"
    }
   ],
   "source": [
    "vocab"
   ]
  },
  {
   "cell_type": "code",
   "execution_count": 36,
   "metadata": {},
   "outputs": [],
   "source": [
    "vocab_size = len(count_vect.vocabulary_)"
   ]
  },
  {
   "cell_type": "code",
   "execution_count": 37,
   "metadata": {},
   "outputs": [],
   "source": [
    "text_train = count_vect.transform(data_train.short_desc)\n",
    "text_test = count_vect.transform(data_test.short_desc)"
   ]
  },
  {
   "cell_type": "code",
   "execution_count": 38,
   "metadata": {},
   "outputs": [
    {
     "data": {
      "text/plain": [
       "<6178x45 sparse matrix of type '<class 'numpy.int64'>'\n",
       "\twith 32933 stored elements in Compressed Sparse Row format>"
      ]
     },
     "execution_count": 38,
     "metadata": {},
     "output_type": "execute_result"
    }
   ],
   "source": [
    "text_train"
   ]
  },
  {
   "cell_type": "code",
   "execution_count": 39,
   "metadata": {},
   "outputs": [],
   "source": [
    "text_input = tf.keras.layers.Input(shape=(vocab_size, ), dtype='int32', name='short_description')\n",
    "embedding = tf.keras.layers.Embedding(input_dim=vocab_size+1, output_dim=32, input_length=vocab_size)(text_input)\n",
    "dense_text = tf.keras.layers.Dense(16, activation='relu')(embedding)\n",
    "dense_text = tf.keras.layers.Dense(8, activation='relu')(dense_text)\n",
    "text_output = tf.keras.layers.Dense(1)(dense_text)"
   ]
  },
  {
   "cell_type": "code",
   "execution_count": 40,
   "metadata": {},
   "outputs": [],
   "source": [
    "text_model = tf.keras.Model(inputs=text_input, outputs=text_output)\n",
    "text_model.compile(optimizer='adam', loss='mae', metrics=['mse', 'mae', 'mean_absolute_percentage_error'])"
   ]
  },
  {
   "cell_type": "code",
   "execution_count": 41,
   "metadata": {},
   "outputs": [
    {
     "name": "stdout",
     "output_type": "stream",
     "text": [
      "CPU times: user 44.3 s, sys: 9.48 s, total: 53.8 s\n",
      "Wall time: 17 s\n"
     ]
    }
   ],
   "source": [
    "%%time\n",
    "\n",
    "hist = text_model.fit(text_train.toarray(), y_train,\n",
    "                      validation_data=(text_test.toarray(), y_test),\n",
    "                      epochs=200, verbose=0, batch_size=batch_size)"
   ]
  },
  {
   "cell_type": "code",
   "execution_count": 42,
   "metadata": {},
   "outputs": [
    {
     "data": {
      "image/png": "[encoded data removed]",
      "text/plain": [
       "<Figure size 432x288 with 1 Axes>"
      ]
     },
     "metadata": {
      "needs_background": "light"
     },
     "output_type": "display_data"
    }
   ],
   "source": [
    "plt.plot(hist.history['mae'], label='train')\n",
    "plt.plot(hist.history['val_mae'], label='valid')\n",
    "plt.legend()\n",
    "plt.show()"
   ]
  },
  {
   "cell_type": "code",
   "execution_count": 43,
   "metadata": {},
   "outputs": [],
   "source": [
    "y_pred = text_model.predict(text_test.toarray())\n",
    "\n",
    "metrics_list.append(get_metrics(y_test, y_pred[:, 0, 0], 'nlp_model'))"
   ]
  },
  {
   "cell_type": "code",
   "execution_count": 44,
   "metadata": {},
   "outputs": [
    {
     "data": {
      "text/html": [
       "<style  type=\"text/css\" >\n",
       "</style><table id=\"T_7d2e3242_bf8e_11ea_b008_acde48001122\" ><thead>    <tr>        <th class=\"blank level0\" ></th>        <th class=\"col_heading level0 col0\" >mae</th>        <th class=\"col_heading level0 col1\" >mape</th>        <th class=\"col_heading level0 col2\" >r2</th>    </tr>    <tr>        <th class=\"index_name level0\" >model</th>        <th class=\"blank\" ></th>        <th class=\"blank\" ></th>        <th class=\"blank\" ></th>    </tr></thead><tbody>\n",
       "                <tr>\n",
       "                        <th id=\"T_7d2e3242_bf8e_11ea_b008_acde48001122level0_row0\" class=\"row_heading level0 row0\" >benchmark_median_price</th>\n",
       "                        <td id=\"T_7d2e3242_bf8e_11ea_b008_acde48001122row0_col0\" class=\"data row0 col0\" >17374</td>\n",
       "                        <td id=\"T_7d2e3242_bf8e_11ea_b008_acde48001122row0_col1\" class=\"data row0 col1\" >26%</td>\n",
       "                        <td id=\"T_7d2e3242_bf8e_11ea_b008_acde48001122row0_col2\" class=\"data row0 col2\" >-0%</td>\n",
       "            </tr>\n",
       "            <tr>\n",
       "                        <th id=\"T_7d2e3242_bf8e_11ea_b008_acde48001122level0_row1\" class=\"row_heading level0 row1\" >benchmark_median_price_per_post_code</th>\n",
       "                        <td id=\"T_7d2e3242_bf8e_11ea_b008_acde48001122row1_col0\" class=\"data row1 col0\" >15129</td>\n",
       "                        <td id=\"T_7d2e3242_bf8e_11ea_b008_acde48001122row1_col1\" class=\"data row1 col1\" >24%</td>\n",
       "                        <td id=\"T_7d2e3242_bf8e_11ea_b008_acde48001122row1_col2\" class=\"data row1 col2\" >12%</td>\n",
       "            </tr>\n",
       "            <tr>\n",
       "                        <th id=\"T_7d2e3242_bf8e_11ea_b008_acde48001122level0_row2\" class=\"row_heading level0 row2\" >linear_regression</th>\n",
       "                        <td id=\"T_7d2e3242_bf8e_11ea_b008_acde48001122row2_col0\" class=\"data row2 col0\" >14228</td>\n",
       "                        <td id=\"T_7d2e3242_bf8e_11ea_b008_acde48001122row2_col1\" class=\"data row2 col1\" >21%</td>\n",
       "                        <td id=\"T_7d2e3242_bf8e_11ea_b008_acde48001122row2_col2\" class=\"data row2 col2\" >15%</td>\n",
       "            </tr>\n",
       "            <tr>\n",
       "                        <th id=\"T_7d2e3242_bf8e_11ea_b008_acde48001122level0_row3\" class=\"row_heading level0 row3\" >gradient_boosting_regressor</th>\n",
       "                        <td id=\"T_7d2e3242_bf8e_11ea_b008_acde48001122row3_col0\" class=\"data row3 col0\" >11547</td>\n",
       "                        <td id=\"T_7d2e3242_bf8e_11ea_b008_acde48001122row3_col1\" class=\"data row3 col1\" >16%</td>\n",
       "                        <td id=\"T_7d2e3242_bf8e_11ea_b008_acde48001122row3_col2\" class=\"data row3 col2\" >26%</td>\n",
       "            </tr>\n",
       "            <tr>\n",
       "                        <th id=\"T_7d2e3242_bf8e_11ea_b008_acde48001122level0_row4\" class=\"row_heading level0 row4\" >dnn_regressor</th>\n",
       "                        <td id=\"T_7d2e3242_bf8e_11ea_b008_acde48001122row4_col0\" class=\"data row4 col0\" >10328</td>\n",
       "                        <td id=\"T_7d2e3242_bf8e_11ea_b008_acde48001122row4_col1\" class=\"data row4 col1\" >14%</td>\n",
       "                        <td id=\"T_7d2e3242_bf8e_11ea_b008_acde48001122row4_col2\" class=\"data row4 col2\" >29%</td>\n",
       "            </tr>\n",
       "            <tr>\n",
       "                        <th id=\"T_7d2e3242_bf8e_11ea_b008_acde48001122level0_row5\" class=\"row_heading level0 row5\" >nlp_model</th>\n",
       "                        <td id=\"T_7d2e3242_bf8e_11ea_b008_acde48001122row5_col0\" class=\"data row5 col0\" >17375</td>\n",
       "                        <td id=\"T_7d2e3242_bf8e_11ea_b008_acde48001122row5_col1\" class=\"data row5 col1\" >26%</td>\n",
       "                        <td id=\"T_7d2e3242_bf8e_11ea_b008_acde48001122row5_col2\" class=\"data row5 col2\" >-0%</td>\n",
       "            </tr>\n",
       "    </tbody></table>"
      ],
      "text/plain": [
       "<pandas.io.formats.style.Styler at 0x1548cb5d0>"
      ]
     },
     "execution_count": 44,
     "metadata": {},
     "output_type": "execute_result"
    }
   ],
   "source": [
    "pd.DataFrame(metrics_list).set_index('model').style.format(style_format)"
   ]
  },
  {
   "cell_type": "markdown",
   "metadata": {},
   "source": [
    "### Wide And Deep Model"
   ]
  },
  {
   "cell_type": "code",
   "execution_count": 45,
   "metadata": {},
   "outputs": [
    {
     "name": "stdout",
     "output_type": "stream",
     "text": [
      "WARNING:tensorflow:From /Users/ruslan.kozhuharov/venvs/tf/lib/python3.7/site-packages/tensorflow_core/python/feature_column/feature_column_v2.py:4322: HashedCategoricalColumn._num_buckets (from tensorflow.python.feature_column.feature_column_v2) is deprecated and will be removed in a future version.\n",
      "Instructions for updating:\n",
      "The old _FeatureColumn APIs are being deprecated. Please use the new FeatureColumn APIs instead.\n"
     ]
    }
   ],
   "source": [
    "features_input = {'new_building': tf.keras.layers.Input(name='new_building', shape=(), dtype='float32'),\n",
    "                  'promoted': tf.keras.layers.Input(name='promoted', shape=(), dtype='float32'),\n",
    "                  'area':  tf.keras.layers.Input(name='area', shape=(), dtype='float32'),\n",
    "                  'type': tf.keras.layers.Input(name='type', shape=(), dtype='string'),\n",
    "                  'post_code': tf.keras.layers.Input(name='post_code', shape=(), dtype='string')}\n",
    "\n",
    "deep_model = tf.keras.layers.DenseFeatures(deep, name='deep_features')(features_input)\n",
    "deep_model = tf.keras.layers.Dense(1024, activation='relu', name='dense_1024')(deep_model)\n",
    "deep_model = tf.keras.layers.Dense(512, activation='relu', name='dense_512')(deep_model)\n",
    "deep_model = tf.keras.layers.Dense(128, activation='relu', name='dense_128')(deep_model)\n",
    "\n",
    "wide_model = tf.keras.layers.DenseFeatures(wide, name='wide_features')(features_input)\n",
    "\n",
    "wide_and_deep = tf.keras.layers.concatenate([deep_model, wide_model], name='wide_and_deep_features')\n",
    "\n",
    "res = tf.keras.layers.Dense(1, activation='relu', name='pred')(wide_and_deep)\n",
    "\n",
    "model = tf.keras.Model(features_input, res)\n",
    "model.compile(optimizer='adam',\n",
    "              loss='mae',\n",
    "              metrics=['mse', 'mae', 'mean_absolute_percentage_error'])"
   ]
  },
  {
   "cell_type": "code",
   "execution_count": 46,
   "metadata": {},
   "outputs": [
    {
     "name": "stdout",
     "output_type": "stream",
     "text": [
      "Model: \"model_1\"\n",
      "__________________________________________________________________________________________________\n",
      "Layer (type)                    Output Shape         Param #     Connected to                     \n",
      "==================================================================================================\n",
      "area (InputLayer)               [(None,)]            0                                            \n",
      "__________________________________________________________________________________________________\n",
      "new_building (InputLayer)       [(None,)]            0                                            \n",
      "__________________________________________________________________________________________________\n",
      "post_code (InputLayer)          [(None,)]            0                                            \n",
      "__________________________________________________________________________________________________\n",
      "promoted (InputLayer)           [(None,)]            0                                            \n",
      "__________________________________________________________________________________________________\n",
      "type (InputLayer)               [(None,)]            0                                            \n",
      "__________________________________________________________________________________________________\n",
      "deep_features (DenseFeatures)   (None, 346)          8060        area[0][0]                       \n",
      "                                                                 new_building[0][0]               \n",
      "                                                                 post_code[0][0]                  \n",
      "                                                                 promoted[0][0]                   \n",
      "                                                                 type[0][0]                       \n",
      "__________________________________________________________________________________________________\n",
      "dense_1024 (Dense)              (None, 1024)         355328      deep_features[0][0]              \n",
      "__________________________________________________________________________________________________\n",
      "dense_512 (Dense)               (None, 512)          524800      dense_1024[0][0]                 \n",
      "__________________________________________________________________________________________________\n",
      "dense_128 (Dense)               (None, 128)          65664       dense_512[0][0]                  \n",
      "__________________________________________________________________________________________________\n",
      "wide_features (DenseFeatures)   (None, 377)          0           area[0][0]                       \n",
      "                                                                 new_building[0][0]               \n",
      "                                                                 post_code[0][0]                  \n",
      "                                                                 promoted[0][0]                   \n",
      "                                                                 type[0][0]                       \n",
      "__________________________________________________________________________________________________\n",
      "wide_and_deep_features (Concate (None, 505)          0           dense_128[0][0]                  \n",
      "                                                                 wide_features[0][0]              \n",
      "__________________________________________________________________________________________________\n",
      "pred (Dense)                    (None, 1)            506         wide_and_deep_features[0][0]     \n",
      "==================================================================================================\n",
      "Total params: 954,358\n",
      "Trainable params: 954,358\n",
      "Non-trainable params: 0\n",
      "__________________________________________________________________________________________________\n"
     ]
    }
   ],
   "source": [
    "model.summary()"
   ]
  },
  {
   "cell_type": "code",
   "execution_count": 47,
   "metadata": {},
   "outputs": [
    {
     "name": "stdout",
     "output_type": "stream",
     "text": [
      "CPU times: user 2min 41s, sys: 12.4 s, total: 2min 53s\n",
      "Wall time: 27.8 s\n"
     ]
    }
   ],
   "source": [
    "%%time\n",
    "hist = model.fit(ds_train,\n",
    "                 validation_data=ds_test,\n",
    "                 epochs=100,\n",
    "                 verbose=0)"
   ]
  },
  {
   "cell_type": "code",
   "execution_count": 48,
   "metadata": {},
   "outputs": [
    {
     "data": {
      "image/png": "[encoded data removed]",
      "text/plain": [
       "<Figure size 432x288 with 1 Axes>"
      ]
     },
     "metadata": {
      "needs_background": "light"
     },
     "output_type": "display_data"
    }
   ],
   "source": [
    "plt.plot(hist.history['mae'], label='train')\n",
    "plt.plot(hist.history['val_mae'], label='valid')\n",
    "plt.legend()\n",
    "plt.show()"
   ]
  },
  {
   "cell_type": "code",
   "execution_count": 49,
   "metadata": {},
   "outputs": [],
   "source": [
    "y_pred = model.predict(ds_test)\n",
    "\n",
    "metrics_list.append(get_metrics(y_test, y_pred[:, 0], 'wide_and_deep_regressor'))"
   ]
  },
  {
   "cell_type": "code",
   "execution_count": 50,
   "metadata": {},
   "outputs": [
    {
     "data": {
      "text/html": [
       "<style  type=\"text/css\" >\n",
       "</style><table id=\"T_8e4a93a4_bf8e_11ea_b008_acde48001122\" ><thead>    <tr>        <th class=\"blank level0\" ></th>        <th class=\"col_heading level0 col0\" >mae</th>        <th class=\"col_heading level0 col1\" >mape</th>        <th class=\"col_heading level0 col2\" >r2</th>    </tr>    <tr>        <th class=\"index_name level0\" >model</th>        <th class=\"blank\" ></th>        <th class=\"blank\" ></th>        <th class=\"blank\" ></th>    </tr></thead><tbody>\n",
       "                <tr>\n",
       "                        <th id=\"T_8e4a93a4_bf8e_11ea_b008_acde48001122level0_row0\" class=\"row_heading level0 row0\" >benchmark_median_price</th>\n",
       "                        <td id=\"T_8e4a93a4_bf8e_11ea_b008_acde48001122row0_col0\" class=\"data row0 col0\" >17374</td>\n",
       "                        <td id=\"T_8e4a93a4_bf8e_11ea_b008_acde48001122row0_col1\" class=\"data row0 col1\" >26%</td>\n",
       "                        <td id=\"T_8e4a93a4_bf8e_11ea_b008_acde48001122row0_col2\" class=\"data row0 col2\" >-0%</td>\n",
       "            </tr>\n",
       "            <tr>\n",
       "                        <th id=\"T_8e4a93a4_bf8e_11ea_b008_acde48001122level0_row1\" class=\"row_heading level0 row1\" >benchmark_median_price_per_post_code</th>\n",
       "                        <td id=\"T_8e4a93a4_bf8e_11ea_b008_acde48001122row1_col0\" class=\"data row1 col0\" >15129</td>\n",
       "                        <td id=\"T_8e4a93a4_bf8e_11ea_b008_acde48001122row1_col1\" class=\"data row1 col1\" >24%</td>\n",
       "                        <td id=\"T_8e4a93a4_bf8e_11ea_b008_acde48001122row1_col2\" class=\"data row1 col2\" >12%</td>\n",
       "            </tr>\n",
       "            <tr>\n",
       "                        <th id=\"T_8e4a93a4_bf8e_11ea_b008_acde48001122level0_row2\" class=\"row_heading level0 row2\" >linear_regression</th>\n",
       "                        <td id=\"T_8e4a93a4_bf8e_11ea_b008_acde48001122row2_col0\" class=\"data row2 col0\" >14228</td>\n",
       "                        <td id=\"T_8e4a93a4_bf8e_11ea_b008_acde48001122row2_col1\" class=\"data row2 col1\" >21%</td>\n",
       "                        <td id=\"T_8e4a93a4_bf8e_11ea_b008_acde48001122row2_col2\" class=\"data row2 col2\" >15%</td>\n",
       "            </tr>\n",
       "            <tr>\n",
       "                        <th id=\"T_8e4a93a4_bf8e_11ea_b008_acde48001122level0_row3\" class=\"row_heading level0 row3\" >gradient_boosting_regressor</th>\n",
       "                        <td id=\"T_8e4a93a4_bf8e_11ea_b008_acde48001122row3_col0\" class=\"data row3 col0\" >11547</td>\n",
       "                        <td id=\"T_8e4a93a4_bf8e_11ea_b008_acde48001122row3_col1\" class=\"data row3 col1\" >16%</td>\n",
       "                        <td id=\"T_8e4a93a4_bf8e_11ea_b008_acde48001122row3_col2\" class=\"data row3 col2\" >26%</td>\n",
       "            </tr>\n",
       "            <tr>\n",
       "                        <th id=\"T_8e4a93a4_bf8e_11ea_b008_acde48001122level0_row4\" class=\"row_heading level0 row4\" >dnn_regressor</th>\n",
       "                        <td id=\"T_8e4a93a4_bf8e_11ea_b008_acde48001122row4_col0\" class=\"data row4 col0\" >10328</td>\n",
       "                        <td id=\"T_8e4a93a4_bf8e_11ea_b008_acde48001122row4_col1\" class=\"data row4 col1\" >14%</td>\n",
       "                        <td id=\"T_8e4a93a4_bf8e_11ea_b008_acde48001122row4_col2\" class=\"data row4 col2\" >29%</td>\n",
       "            </tr>\n",
       "            <tr>\n",
       "                        <th id=\"T_8e4a93a4_bf8e_11ea_b008_acde48001122level0_row5\" class=\"row_heading level0 row5\" >nlp_model</th>\n",
       "                        <td id=\"T_8e4a93a4_bf8e_11ea_b008_acde48001122row5_col0\" class=\"data row5 col0\" >17375</td>\n",
       "                        <td id=\"T_8e4a93a4_bf8e_11ea_b008_acde48001122row5_col1\" class=\"data row5 col1\" >26%</td>\n",
       "                        <td id=\"T_8e4a93a4_bf8e_11ea_b008_acde48001122row5_col2\" class=\"data row5 col2\" >-0%</td>\n",
       "            </tr>\n",
       "            <tr>\n",
       "                        <th id=\"T_8e4a93a4_bf8e_11ea_b008_acde48001122level0_row6\" class=\"row_heading level0 row6\" >wide_and_deep_regressor</th>\n",
       "                        <td id=\"T_8e4a93a4_bf8e_11ea_b008_acde48001122row6_col0\" class=\"data row6 col0\" >10712</td>\n",
       "                        <td id=\"T_8e4a93a4_bf8e_11ea_b008_acde48001122row6_col1\" class=\"data row6 col1\" >14%</td>\n",
       "                        <td id=\"T_8e4a93a4_bf8e_11ea_b008_acde48001122row6_col2\" class=\"data row6 col2\" >28%</td>\n",
       "            </tr>\n",
       "    </tbody></table>"
      ],
      "text/plain": [
       "<pandas.io.formats.style.Styler at 0x1548f2090>"
      ]
     },
     "execution_count": 50,
     "metadata": {},
     "output_type": "execute_result"
    }
   ],
   "source": [
    "pd.DataFrame(metrics_list).set_index('model').style.format(style_format)"
   ]
  },
  {
   "cell_type": "code",
   "execution_count": null,
   "metadata": {},
   "outputs": [],
   "source": []
  },
  {
   "cell_type": "markdown",
   "metadata": {},
   "source": [
    "### Combine The Existing Features With The Text Feature"
   ]
  },
  {
   "cell_type": "code",
   "execution_count": null,
   "metadata": {},
   "outputs": [],
   "source": []
  }
 ],
 "metadata": {
  "kernelspec": {
   "display_name": "Python 3",
   "language": "python",
   "name": "python3"
  },
  "language_info": {
   "codemirror_mode": {
    "name": "ipython",
    "version": 3
   },
   "file_extension": ".py",
   "mimetype": "text/x-python",
   "name": "python",
   "nbconvert_exporter": "python",
   "pygments_lexer": "ipython3",
   "version": "3.7.6"
  }
 },
 "nbformat": 4,
 "nbformat_minor": 4
}
