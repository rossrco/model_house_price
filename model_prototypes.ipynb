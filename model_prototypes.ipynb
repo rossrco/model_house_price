{
 "cells": [
  {
   "cell_type": "code",
   "execution_count": 95,
   "metadata": {},
   "outputs": [],
   "source": [
    "import re\n",
    "import json\n",
    "import pandas as pd\n",
    "import numpy as np\n",
    "import google.cloud.bigquery as bq\n",
    "import tensorflow as tf\n",
    "from tensorflow import keras\n",
    "from sklearn import model_selection\n",
    "from sklearn import metrics\n",
    "from sklearn import impute\n",
    "from sklearn import pipeline\n",
    "from sklearn import preprocessing\n",
    "from sklearn import compose\n",
    "from sklearn import linear_model\n",
    "from sklearn import ensemble\n",
    "from sklearn import feature_extraction\n",
    "from sklearn import base\n",
    "from scipy import stats\n",
    "from category_encoders import target_encoder\n",
    "import matplotlib.pyplot as plt\n",
    "import seaborn as sns"
   ]
  },
  {
   "cell_type": "markdown",
   "metadata": {},
   "source": [
    "### Ingest Data"
   ]
  },
  {
   "cell_type": "code",
   "execution_count": 2,
   "metadata": {},
   "outputs": [],
   "source": [
    "%load_ext google.cloud.bigquery"
   ]
  },
  {
   "cell_type": "code",
   "execution_count": 3,
   "metadata": {},
   "outputs": [],
   "source": [
    "%%bigquery data\n",
    "SELECT\n",
    "  *\n",
    "FROM `curious-bot.homes.ad_details`\n",
    "WHERE price_per_sq_m IS NOT NULL\n",
    "  AND post_code IS NOT NULL"
   ]
  },
  {
   "cell_type": "code",
   "execution_count": 4,
   "metadata": {},
   "outputs": [],
   "source": [
    "data.set_index('id', inplace=True)"
   ]
  },
  {
   "cell_type": "code",
   "execution_count": 5,
   "metadata": {},
   "outputs": [
    {
     "name": "stdout",
     "output_type": "stream",
     "text": [
      "<class 'pandas.core.frame.DataFrame'>\n",
      "Index: 11086 entries, a5a3390f-a431-4d1e-9f37-7627929c8224 to 0c1ca5c3-8449-47cc-a2d8-661e12cbac24\n",
      "Data columns (total 16 columns):\n",
      "new_building      11086 non-null bool\n",
      "promoted          11086 non-null bool\n",
      "price             11086 non-null int64\n",
      "area              11086 non-null int64\n",
      "price_per_sq_m    11086 non-null int64\n",
      "type              11086 non-null object\n",
      "viewed            11086 non-null datetime64[ns, UTC]\n",
      "address           11086 non-null object\n",
      "post_code         11086 non-null object\n",
      "street_num        11072 non-null object\n",
      "street_name       11082 non-null object\n",
      "postal_town       11086 non-null object\n",
      "country           11086 non-null object\n",
      "lat               11086 non-null float64\n",
      "lng               11086 non-null float64\n",
      "short_desc        11086 non-null object\n",
      "dtypes: bool(2), datetime64[ns, UTC](1), float64(2), int64(3), object(8)\n",
      "memory usage: 1.3+ MB\n"
     ]
    }
   ],
   "source": [
    "data.info()"
   ]
  },
  {
   "cell_type": "markdown",
   "metadata": {},
   "source": [
    "### Define Utils"
   ]
  },
  {
   "cell_type": "code",
   "execution_count": 6,
   "metadata": {},
   "outputs": [],
   "source": [
    "def demo(dataset, feature_col):\n",
    "    example = next(iter(dataset))[0]\n",
    "    feature_layer = tf.keras.layers.DenseFeatures(feature_col)\n",
    "    return feature_layer(example).numpy()\n",
    "\n",
    "def input_to_estimator(X, y, batch_size):\n",
    "    ds = tf.data.Dataset.from_tensor_slices((dict(X), y))\n",
    "    return ds.batch(batch_size)\n",
    "\n",
    "def mean_absolute_prc_error(y_true, y_pred):\n",
    "    return np.mean(np.abs((y_true - y_pred) / y_true))\n",
    "\n",
    "def get_results(y_true, y_pred, model_name, model):\n",
    "    mae = metrics.mean_absolute_error(y_test, y_pred)\n",
    "    mape = mean_absolute_prc_error(y_test, y_pred)\n",
    "    r2 = metrics.r2_score(y_test, y_pred)\n",
    "    expl_var = metrics.explained_variance_score(y_test, y_pred)\n",
    "    res = {'model_name': model_name,\n",
    "           'mae': mae,\n",
    "           'mape': mape,\n",
    "           'r2': r2,\n",
    "           'explained_variance': expl_var,\n",
    "           'model': model}\n",
    "    return res"
   ]
  },
  {
   "cell_type": "markdown",
   "metadata": {},
   "source": [
    "### Hyperparameters"
   ]
  },
  {
   "cell_type": "code",
   "execution_count": 7,
   "metadata": {},
   "outputs": [],
   "source": [
    "random_seed = 42\n",
    "test_size = 0.3\n",
    "batch_size = 300\n",
    "n_area_bins = 5\n",
    "min_points_per_post_code = 20"
   ]
  },
  {
   "cell_type": "markdown",
   "metadata": {},
   "source": [
    "### Prepare Train And Test Datasets"
   ]
  },
  {
   "cell_type": "code",
   "execution_count": 8,
   "metadata": {},
   "outputs": [],
   "source": [
    "X_cols = ['new_building', 'promoted', 'area', 'type', 'post_code']\n",
    "\n",
    "X = data[X_cols]\n",
    "y = data.price_per_sq_m\n",
    "\n",
    "data_train, data_test = model_selection.train_test_split(data,\n",
    "                                                         test_size=test_size,\n",
    "                                                         random_state=random_seed)\n",
    "\n",
    "price_train_z_scores = stats.zscore(data_train.price_per_sq_m)\n",
    "outlier_cutoff = min(data_train.price_per_sq_m[price_train_z_scores >= 3])\n",
    "\n",
    "data_train = data_train[data_train.price_per_sq_m < outlier_cutoff].copy()\n",
    "data_test = data_test[data_test.price_per_sq_m < outlier_cutoff].copy()\n",
    "\n",
    "X_train, X_test = data_train[X_cols], data_test[X_cols]\n",
    "y_train, y_test = data_train.price_per_sq_m, data_test.price_per_sq_m\n",
    "\n",
    "ds_train = input_to_estimator(X_train, y_train, batch_size)\n",
    "ds_test = input_to_estimator(X_test, y_test, batch_size)"
   ]
  },
  {
   "cell_type": "markdown",
   "metadata": {},
   "source": [
    "### Benchmark Median Price Per Square Meter"
   ]
  },
  {
   "cell_type": "code",
   "execution_count": 9,
   "metadata": {},
   "outputs": [],
   "source": [
    "results = pd.DataFrame()\n",
    "style_format = {'mae': '{:.0f}',\n",
    "                'mape': '{:.0%}',\n",
    "                'r2': '{:.0%}',\n",
    "                'explained_variance': '{:.0%}'}"
   ]
  },
  {
   "cell_type": "code",
   "execution_count": 10,
   "metadata": {},
   "outputs": [],
   "source": [
    "y_pred = [y_train.median()] * len(y_test)"
   ]
  },
  {
   "cell_type": "code",
   "execution_count": 11,
   "metadata": {},
   "outputs": [],
   "source": [
    "metrics_and_model = get_results(y_test, y_pred, 'benchmark_median_price', None)\n",
    "results = results.append(metrics_and_model, ignore_index=True)"
   ]
  },
  {
   "cell_type": "code",
   "execution_count": 12,
   "metadata": {},
   "outputs": [
    {
     "data": {
      "text/html": [
       "<style  type=\"text/css\" >\n",
       "</style><table id=\"T_c7f9d022_d728_11ea_99f3_acde48001122\" ><thead>    <tr>        <th class=\"blank level0\" ></th>        <th class=\"col_heading level0 col0\" >explained_variance</th>        <th class=\"col_heading level0 col1\" >mae</th>        <th class=\"col_heading level0 col2\" >mape</th>        <th class=\"col_heading level0 col3\" >r2</th>    </tr>    <tr>        <th class=\"index_name level0\" >model_name</th>        <th class=\"blank\" ></th>        <th class=\"blank\" ></th>        <th class=\"blank\" ></th>        <th class=\"blank\" ></th>    </tr></thead><tbody>\n",
       "                <tr>\n",
       "                        <th id=\"T_c7f9d022_d728_11ea_99f3_acde48001122level0_row0\" class=\"row_heading level0 row0\" >benchmark_median_price</th>\n",
       "                        <td id=\"T_c7f9d022_d728_11ea_99f3_acde48001122row0_col0\" class=\"data row0 col0\" >0%</td>\n",
       "                        <td id=\"T_c7f9d022_d728_11ea_99f3_acde48001122row0_col1\" class=\"data row0 col1\" >16412</td>\n",
       "                        <td id=\"T_c7f9d022_d728_11ea_99f3_acde48001122row0_col2\" class=\"data row0 col2\" >26%</td>\n",
       "                        <td id=\"T_c7f9d022_d728_11ea_99f3_acde48001122row0_col3\" class=\"data row0 col3\" >-0%</td>\n",
       "            </tr>\n",
       "    </tbody></table>"
      ],
      "text/plain": [
       "<pandas.io.formats.style.Styler at 0x14d2e6810>"
      ]
     },
     "execution_count": 12,
     "metadata": {},
     "output_type": "execute_result"
    }
   ],
   "source": [
    "results.set_index('model_name').drop('model', axis=1).style.format(style_format)"
   ]
  },
  {
   "cell_type": "markdown",
   "metadata": {},
   "source": [
    "### Benchmark Median Price Per Square Meter Per Post Code"
   ]
  },
  {
   "cell_type": "code",
   "execution_count": 13,
   "metadata": {},
   "outputs": [],
   "source": [
    "med_price_post_code = data_train.groupby('post_code').price_per_sq_m.median()\n",
    "count_post_code = data_train.groupby('post_code').price_per_sq_m.count()"
   ]
  },
  {
   "cell_type": "code",
   "execution_count": 14,
   "metadata": {},
   "outputs": [],
   "source": [
    "post_codes_above_min_points = count_post_code[count_post_code > min_points_per_post_code].index"
   ]
  },
  {
   "cell_type": "code",
   "execution_count": 15,
   "metadata": {},
   "outputs": [],
   "source": [
    "med_price_post_code_sel = med_price_post_code.loc[post_codes_above_min_points]\n",
    "med_price_post_code_sel.rename('post_code_median_price', inplace=True)\n",
    "\n",
    "y_pred = data_test.merge(med_price_post_code_sel,\n",
    "                         how='left',\n",
    "                         left_on='post_code',\n",
    "                         right_index=True).post_code_median_price\n",
    "\n",
    "y_pred.fillna(y_train.median(), inplace=True)"
   ]
  },
  {
   "cell_type": "code",
   "execution_count": 16,
   "metadata": {},
   "outputs": [],
   "source": [
    "metrics_and_model = get_results(y_test, y_pred, 'benchmark_median_price_per_post_code', None)\n",
    "results = results.append(metrics_and_model, ignore_index=True)"
   ]
  },
  {
   "cell_type": "code",
   "execution_count": 17,
   "metadata": {},
   "outputs": [
    {
     "data": {
      "text/html": [
       "<style  type=\"text/css\" >\n",
       "</style><table id=\"T_c8021e80_d728_11ea_99f3_acde48001122\" ><thead>    <tr>        <th class=\"blank level0\" ></th>        <th class=\"col_heading level0 col0\" >explained_variance</th>        <th class=\"col_heading level0 col1\" >mae</th>        <th class=\"col_heading level0 col2\" >mape</th>        <th class=\"col_heading level0 col3\" >r2</th>    </tr>    <tr>        <th class=\"index_name level0\" >model_name</th>        <th class=\"blank\" ></th>        <th class=\"blank\" ></th>        <th class=\"blank\" ></th>        <th class=\"blank\" ></th>    </tr></thead><tbody>\n",
       "                <tr>\n",
       "                        <th id=\"T_c8021e80_d728_11ea_99f3_acde48001122level0_row0\" class=\"row_heading level0 row0\" >benchmark_median_price</th>\n",
       "                        <td id=\"T_c8021e80_d728_11ea_99f3_acde48001122row0_col0\" class=\"data row0 col0\" >0%</td>\n",
       "                        <td id=\"T_c8021e80_d728_11ea_99f3_acde48001122row0_col1\" class=\"data row0 col1\" >16412</td>\n",
       "                        <td id=\"T_c8021e80_d728_11ea_99f3_acde48001122row0_col2\" class=\"data row0 col2\" >26%</td>\n",
       "                        <td id=\"T_c8021e80_d728_11ea_99f3_acde48001122row0_col3\" class=\"data row0 col3\" >-0%</td>\n",
       "            </tr>\n",
       "            <tr>\n",
       "                        <th id=\"T_c8021e80_d728_11ea_99f3_acde48001122level0_row1\" class=\"row_heading level0 row1\" >benchmark_median_price_per_post_code</th>\n",
       "                        <td id=\"T_c8021e80_d728_11ea_99f3_acde48001122row1_col0\" class=\"data row1 col0\" >25%</td>\n",
       "                        <td id=\"T_c8021e80_d728_11ea_99f3_acde48001122row1_col1\" class=\"data row1 col1\" >13439</td>\n",
       "                        <td id=\"T_c8021e80_d728_11ea_99f3_acde48001122row1_col2\" class=\"data row1 col2\" >22%</td>\n",
       "                        <td id=\"T_c8021e80_d728_11ea_99f3_acde48001122row1_col3\" class=\"data row1 col3\" >24%</td>\n",
       "            </tr>\n",
       "    </tbody></table>"
      ],
      "text/plain": [
       "<pandas.io.formats.style.Styler at 0x14d58ac90>"
      ]
     },
     "execution_count": 17,
     "metadata": {},
     "output_type": "execute_result"
    }
   ],
   "source": [
    "results.set_index('model_name').drop('model', axis=1).style.format(style_format)"
   ]
  },
  {
   "cell_type": "markdown",
   "metadata": {},
   "source": [
    "### Linear Models"
   ]
  },
  {
   "cell_type": "code",
   "execution_count": 18,
   "metadata": {},
   "outputs": [],
   "source": [
    "class DummyEstimator(base.BaseEstimator):\n",
    "    def fit(self):\n",
    "        pass\n",
    "    def score(self):\n",
    "        pass\n",
    "\n",
    "\n",
    "cat_transformer = pipeline.Pipeline(steps=[\n",
    "    ('imputer', impute.SimpleImputer(strategy='constant', fill_value='unknown')),\n",
    "    ('target_enc', target_encoder.TargetEncoder(handle_unknown='ignore'))\n",
    "])\n",
    "\n",
    "\n",
    "num_transformer = pipeline.Pipeline(steps=[\n",
    "    ('imputer', impute.SimpleImputer(strategy='median')),\n",
    "    ('bucketize', preprocessing.KBinsDiscretizer(n_bins=n_area_bins))\n",
    "])\n",
    "\n",
    "\n",
    "preprocessor = compose.ColumnTransformer(transformers=[\n",
    "    ('cat_transf', cat_transformer, ['post_code']),\n",
    "    ('num_transf', num_transformer, ['area'])\n",
    "])\n",
    "\n",
    "\n",
    "estimator = pipeline.Pipeline(steps=[\n",
    "    ('preprocessor', preprocessor),\n",
    "    ('regressor', DummyEstimator())\n",
    "])"
   ]
  },
  {
   "cell_type": "code",
   "execution_count": 19,
   "metadata": {},
   "outputs": [],
   "source": [
    "search_space = [{'regressor': [linear_model.LinearRegression()]},\n",
    "                {'regressor': [ensemble.GradientBoostingRegressor(random_state=random_seed)]}]"
   ]
  },
  {
   "cell_type": "code",
   "execution_count": 20,
   "metadata": {},
   "outputs": [],
   "source": [
    "grid_search = model_selection.GridSearchCV(estimator, search_space)"
   ]
  },
  {
   "cell_type": "code",
   "execution_count": 21,
   "metadata": {},
   "outputs": [
    {
     "data": {
      "text/plain": [
       "GridSearchCV(cv=None, error_score=nan,\n",
       "             estimator=Pipeline(memory=None,\n",
       "                                steps=[('preprocessor',\n",
       "                                        ColumnTransformer(n_jobs=None,\n",
       "                                                          remainder='drop',\n",
       "                                                          sparse_threshold=0.3,\n",
       "                                                          transformer_weights=None,\n",
       "                                                          transformers=[('cat_transf',\n",
       "                                                                         Pipeline(memory=None,\n",
       "                                                                                  steps=[('imputer',\n",
       "                                                                                          SimpleImputer(add_indicator=False,\n",
       "                                                                                                        copy=True,\n",
       "                                                                                                        fill_value='unknown',\n",
       "                                                                                                        missing_values=nan,\n",
       "                                                                                                        strategy='const...\n",
       "                                                                  min_impurity_decrease=0.0,\n",
       "                                                                  min_impurity_split=None,\n",
       "                                                                  min_samples_leaf=1,\n",
       "                                                                  min_samples_split=2,\n",
       "                                                                  min_weight_fraction_leaf=0.0,\n",
       "                                                                  n_estimators=100,\n",
       "                                                                  n_iter_no_change=None,\n",
       "                                                                  presort='deprecated',\n",
       "                                                                  random_state=42,\n",
       "                                                                  subsample=1.0,\n",
       "                                                                  tol=0.0001,\n",
       "                                                                  validation_fraction=0.1,\n",
       "                                                                  verbose=0,\n",
       "                                                                  warm_start=False)]}],\n",
       "             pre_dispatch='2*n_jobs', refit=True, return_train_score=False,\n",
       "             scoring=None, verbose=0)"
      ]
     },
     "execution_count": 21,
     "metadata": {},
     "output_type": "execute_result"
    }
   ],
   "source": [
    "grid_search.fit(X_train, y_train)"
   ]
  },
  {
   "cell_type": "code",
   "execution_count": 22,
   "metadata": {},
   "outputs": [],
   "source": [
    "y_pred = grid_search.best_estimator_.predict(X_test)\n",
    "\n",
    "metrics_and_model = get_results(y_test, y_pred, 'linear_model', grid_search.best_estimator_)\n",
    "results = results.append(metrics_and_model, ignore_index=True)"
   ]
  },
  {
   "cell_type": "code",
   "execution_count": 23,
   "metadata": {},
   "outputs": [
    {
     "data": {
      "text/html": [
       "<style  type=\"text/css\" >\n",
       "</style><table id=\"T_c8dcce7c_d728_11ea_99f3_acde48001122\" ><thead>    <tr>        <th class=\"blank level0\" ></th>        <th class=\"col_heading level0 col0\" >explained_variance</th>        <th class=\"col_heading level0 col1\" >mae</th>        <th class=\"col_heading level0 col2\" >mape</th>        <th class=\"col_heading level0 col3\" >r2</th>    </tr>    <tr>        <th class=\"index_name level0\" >model_name</th>        <th class=\"blank\" ></th>        <th class=\"blank\" ></th>        <th class=\"blank\" ></th>        <th class=\"blank\" ></th>    </tr></thead><tbody>\n",
       "                <tr>\n",
       "                        <th id=\"T_c8dcce7c_d728_11ea_99f3_acde48001122level0_row0\" class=\"row_heading level0 row0\" >benchmark_median_price</th>\n",
       "                        <td id=\"T_c8dcce7c_d728_11ea_99f3_acde48001122row0_col0\" class=\"data row0 col0\" >0%</td>\n",
       "                        <td id=\"T_c8dcce7c_d728_11ea_99f3_acde48001122row0_col1\" class=\"data row0 col1\" >16412</td>\n",
       "                        <td id=\"T_c8dcce7c_d728_11ea_99f3_acde48001122row0_col2\" class=\"data row0 col2\" >26%</td>\n",
       "                        <td id=\"T_c8dcce7c_d728_11ea_99f3_acde48001122row0_col3\" class=\"data row0 col3\" >-0%</td>\n",
       "            </tr>\n",
       "            <tr>\n",
       "                        <th id=\"T_c8dcce7c_d728_11ea_99f3_acde48001122level0_row1\" class=\"row_heading level0 row1\" >benchmark_median_price_per_post_code</th>\n",
       "                        <td id=\"T_c8dcce7c_d728_11ea_99f3_acde48001122row1_col0\" class=\"data row1 col0\" >25%</td>\n",
       "                        <td id=\"T_c8dcce7c_d728_11ea_99f3_acde48001122row1_col1\" class=\"data row1 col1\" >13439</td>\n",
       "                        <td id=\"T_c8dcce7c_d728_11ea_99f3_acde48001122row1_col2\" class=\"data row1 col2\" >22%</td>\n",
       "                        <td id=\"T_c8dcce7c_d728_11ea_99f3_acde48001122row1_col3\" class=\"data row1 col3\" >24%</td>\n",
       "            </tr>\n",
       "            <tr>\n",
       "                        <th id=\"T_c8dcce7c_d728_11ea_99f3_acde48001122level0_row2\" class=\"row_heading level0 row2\" >linear_model</th>\n",
       "                        <td id=\"T_c8dcce7c_d728_11ea_99f3_acde48001122row2_col0\" class=\"data row2 col0\" >60%</td>\n",
       "                        <td id=\"T_c8dcce7c_d728_11ea_99f3_acde48001122row2_col1\" class=\"data row2 col1\" >9780</td>\n",
       "                        <td id=\"T_c8dcce7c_d728_11ea_99f3_acde48001122row2_col2\" class=\"data row2 col2\" >14%</td>\n",
       "                        <td id=\"T_c8dcce7c_d728_11ea_99f3_acde48001122row2_col3\" class=\"data row2 col3\" >60%</td>\n",
       "            </tr>\n",
       "    </tbody></table>"
      ],
      "text/plain": [
       "<pandas.io.formats.style.Styler at 0x14d61b510>"
      ]
     },
     "execution_count": 23,
     "metadata": {},
     "output_type": "execute_result"
    }
   ],
   "source": [
    "results.set_index('model_name').drop('model', axis=1).style.format(style_format)"
   ]
  },
  {
   "cell_type": "markdown",
   "metadata": {},
   "source": [
    "### Deep Neural Network Regressor"
   ]
  },
  {
   "cell_type": "code",
   "execution_count": 24,
   "metadata": {},
   "outputs": [],
   "source": [
    "area_bins = list(range(30, 180, 30))\n",
    "all_post_codes = list(X_train.post_code.unique())\n",
    "\n",
    "area = tf.feature_column.numeric_column('area')\n",
    "area_bucket = tf.feature_column.bucketized_column(area, boundaries=area_bins)\n",
    "\n",
    "promoted = tf.feature_column.numeric_column('promoted')\n",
    "\n",
    "new_building = tf.feature_column.numeric_column('new_building')\n",
    "\n",
    "real_est_type = tf.feature_column.categorical_column_with_vocabulary_list('type', ['apartment', 'semi_detached', 'terraced', 'detached'])\n",
    "real_est_type_1_hot = tf.feature_column.indicator_column(real_est_type)\n",
    "\n",
    "post_code = tf.feature_column.categorical_column_with_vocabulary_list('post_code', all_post_codes)\n",
    "post_code_1_hot = tf.feature_column.indicator_column(post_code)\n",
    "post_code_embedding = tf.feature_column.embedding_column(post_code, dimension=20)\n",
    "post_code_hash = tf.feature_column.categorical_column_with_hash_bucket('post_code', 50)\n",
    "post_code_hash_ind = tf.feature_column.indicator_column(post_code_hash)\n",
    "\n",
    "real_est_type_x_area_bucket = tf.feature_column.crossed_column([real_est_type, area_bucket], hash_bucket_size=20)\n",
    "real_est_type_x_area_bucket_1_hot = tf.feature_column.indicator_column(real_est_type_x_area_bucket)\n",
    "real_est_type_x_area_bucket_embedding = tf.feature_column.embedding_column(real_est_type_x_area_bucket, dimension=20)\n",
    "\n",
    "post_code_embedding_x_area_bucket = tf.feature_column.crossed_column([post_code, area_bucket], hash_bucket_size=200)\n",
    "post_code_embedding_x_area_bucket_1_hot = tf.feature_column.indicator_column(post_code_embedding_x_area_bucket)\n",
    "post_code_embedding_x_area_bucket_embedding = tf.feature_column.embedding_column(post_code_embedding_x_area_bucket, dimension=20)\n",
    "\n",
    "post_code_embedding_x_real_est_type = tf.feature_column.crossed_column([post_code, real_est_type], hash_bucket_size=100)\n",
    "post_code_embedding_x_real_est_type_1_hot = tf.feature_column.indicator_column(post_code_embedding_x_real_est_type)\n",
    "post_code_embedding_x_real_est_type_embedding = tf.feature_column.embedding_column(post_code_embedding_x_real_est_type, dimension=20)\n",
    "\n",
    "wide = [real_est_type_x_area_bucket_embedding,\n",
    "        post_code_embedding_x_area_bucket_embedding,\n",
    "        post_code_embedding_x_real_est_type_embedding]\n",
    "\n",
    "deep = [area, area_bucket, promoted, new_building,\n",
    "        real_est_type_1_hot, post_code_1_hot]"
   ]
  },
  {
   "cell_type": "code",
   "execution_count": 25,
   "metadata": {},
   "outputs": [],
   "source": [
    "features = [area_bucket, promoted, new_building,\n",
    "            real_est_type_1_hot, post_code_embedding,\n",
    "            real_est_type_x_area_bucket_1_hot,\n",
    "            post_code_embedding_x_area_bucket_1_hot,\n",
    "            post_code_embedding_x_real_est_type_1_hot]\n",
    "\n",
    "feature_layer = tf.keras.layers.DenseFeatures(features)"
   ]
  },
  {
   "cell_type": "code",
   "execution_count": 26,
   "metadata": {},
   "outputs": [
    {
     "name": "stdout",
     "output_type": "stream",
     "text": [
      "CPU times: user 3min 4s, sys: 12.4 s, total: 3min 16s\n",
      "Wall time: 33 s\n"
     ]
    }
   ],
   "source": [
    "%%time\n",
    "\n",
    "model = tf.keras.Sequential([\n",
    "    feature_layer,\n",
    "    tf.keras.layers.Dense(1024, activation='relu'),\n",
    "    tf.keras.layers.Dense(512, activation='relu'),\n",
    "    tf.keras.layers.Dense(128, activation='relu'),\n",
    "    tf.keras.layers.Dense(1)\n",
    "])\n",
    "\n",
    "model.compile(optimizer='adam',\n",
    "              loss='mae',\n",
    "              metrics=['mse', 'mae', 'mean_absolute_percentage_error'])\n",
    "\n",
    "hist = model.fit(ds_train,\n",
    "                 validation_data=ds_test,\n",
    "                 epochs=100,\n",
    "                 verbose=0)"
   ]
  },
  {
   "cell_type": "code",
   "execution_count": 27,
   "metadata": {},
   "outputs": [
    {
     "data": {
      "image/png": "[encoded data removed]",
      "text/plain": [
       "<Figure size 432x288 with 1 Axes>"
      ]
     },
     "metadata": {
      "needs_background": "light"
     },
     "output_type": "display_data"
    }
   ],
   "source": [
    "plt.plot(hist.history['mae'], label='train')\n",
    "plt.plot(hist.history['val_mae'], label='valid')\n",
    "plt.legend()\n",
    "plt.show()"
   ]
  },
  {
   "cell_type": "code",
   "execution_count": 28,
   "metadata": {},
   "outputs": [],
   "source": [
    "y_pred = model.predict(ds_test)\n",
    "\n",
    "metrics_and_model = get_results(y_test, y_pred[:, 0], 'dnn_regressor', model)\n",
    "results = results.append(metrics_and_model, ignore_index=True)"
   ]
  },
  {
   "cell_type": "code",
   "execution_count": 29,
   "metadata": {},
   "outputs": [
    {
     "data": {
      "text/html": [
       "<style  type=\"text/css\" >\n",
       "</style><table id=\"T_dcdbdf76_d728_11ea_99f3_acde48001122\" ><thead>    <tr>        <th class=\"blank level0\" ></th>        <th class=\"col_heading level0 col0\" >explained_variance</th>        <th class=\"col_heading level0 col1\" >mae</th>        <th class=\"col_heading level0 col2\" >mape</th>        <th class=\"col_heading level0 col3\" >r2</th>    </tr>    <tr>        <th class=\"index_name level0\" >model_name</th>        <th class=\"blank\" ></th>        <th class=\"blank\" ></th>        <th class=\"blank\" ></th>        <th class=\"blank\" ></th>    </tr></thead><tbody>\n",
       "                <tr>\n",
       "                        <th id=\"T_dcdbdf76_d728_11ea_99f3_acde48001122level0_row0\" class=\"row_heading level0 row0\" >benchmark_median_price</th>\n",
       "                        <td id=\"T_dcdbdf76_d728_11ea_99f3_acde48001122row0_col0\" class=\"data row0 col0\" >0%</td>\n",
       "                        <td id=\"T_dcdbdf76_d728_11ea_99f3_acde48001122row0_col1\" class=\"data row0 col1\" >16412</td>\n",
       "                        <td id=\"T_dcdbdf76_d728_11ea_99f3_acde48001122row0_col2\" class=\"data row0 col2\" >26%</td>\n",
       "                        <td id=\"T_dcdbdf76_d728_11ea_99f3_acde48001122row0_col3\" class=\"data row0 col3\" >-0%</td>\n",
       "            </tr>\n",
       "            <tr>\n",
       "                        <th id=\"T_dcdbdf76_d728_11ea_99f3_acde48001122level0_row1\" class=\"row_heading level0 row1\" >benchmark_median_price_per_post_code</th>\n",
       "                        <td id=\"T_dcdbdf76_d728_11ea_99f3_acde48001122row1_col0\" class=\"data row1 col0\" >25%</td>\n",
       "                        <td id=\"T_dcdbdf76_d728_11ea_99f3_acde48001122row1_col1\" class=\"data row1 col1\" >13439</td>\n",
       "                        <td id=\"T_dcdbdf76_d728_11ea_99f3_acde48001122row1_col2\" class=\"data row1 col2\" >22%</td>\n",
       "                        <td id=\"T_dcdbdf76_d728_11ea_99f3_acde48001122row1_col3\" class=\"data row1 col3\" >24%</td>\n",
       "            </tr>\n",
       "            <tr>\n",
       "                        <th id=\"T_dcdbdf76_d728_11ea_99f3_acde48001122level0_row2\" class=\"row_heading level0 row2\" >linear_model</th>\n",
       "                        <td id=\"T_dcdbdf76_d728_11ea_99f3_acde48001122row2_col0\" class=\"data row2 col0\" >60%</td>\n",
       "                        <td id=\"T_dcdbdf76_d728_11ea_99f3_acde48001122row2_col1\" class=\"data row2 col1\" >9780</td>\n",
       "                        <td id=\"T_dcdbdf76_d728_11ea_99f3_acde48001122row2_col2\" class=\"data row2 col2\" >14%</td>\n",
       "                        <td id=\"T_dcdbdf76_d728_11ea_99f3_acde48001122row2_col3\" class=\"data row2 col3\" >60%</td>\n",
       "            </tr>\n",
       "            <tr>\n",
       "                        <th id=\"T_dcdbdf76_d728_11ea_99f3_acde48001122level0_row3\" class=\"row_heading level0 row3\" >dnn_regressor</th>\n",
       "                        <td id=\"T_dcdbdf76_d728_11ea_99f3_acde48001122row3_col0\" class=\"data row3 col0\" >63%</td>\n",
       "                        <td id=\"T_dcdbdf76_d728_11ea_99f3_acde48001122row3_col1\" class=\"data row3 col1\" >9081</td>\n",
       "                        <td id=\"T_dcdbdf76_d728_11ea_99f3_acde48001122row3_col2\" class=\"data row3 col2\" >13%</td>\n",
       "                        <td id=\"T_dcdbdf76_d728_11ea_99f3_acde48001122row3_col3\" class=\"data row3 col3\" >62%</td>\n",
       "            </tr>\n",
       "    </tbody></table>"
      ],
      "text/plain": [
       "<pandas.io.formats.style.Styler at 0x14e425790>"
      ]
     },
     "execution_count": 29,
     "metadata": {},
     "output_type": "execute_result"
    }
   ],
   "source": [
    "results.set_index('model_name').drop('model', axis=1).style.format(style_format)"
   ]
  },
  {
   "cell_type": "markdown",
   "metadata": {},
   "source": [
    "### Wide And Deep Model"
   ]
  },
  {
   "cell_type": "code",
   "execution_count": 30,
   "metadata": {},
   "outputs": [],
   "source": [
    "features_input = {'new_building': tf.keras.layers.Input(name='new_building', shape=(), dtype='float32'),\n",
    "                  'promoted': tf.keras.layers.Input(name='promoted', shape=(), dtype='float32'),\n",
    "                  'area':  tf.keras.layers.Input(name='area', shape=(), dtype='float32'),\n",
    "                  'type': tf.keras.layers.Input(name='type', shape=(), dtype='string'),\n",
    "                  'post_code': tf.keras.layers.Input(name='post_code', shape=(), dtype='string')}\n",
    "\n",
    "deep_model = tf.keras.layers.DenseFeatures(deep, name='deep_features')(features_input)\n",
    "deep_model = tf.keras.layers.Dense(1024, activation='relu', name='deep_dense_1024')(deep_model)\n",
    "deep_model = tf.keras.layers.Dense(512, activation='relu', name='deep_dense_512')(deep_model)\n",
    "deep_model = tf.keras.layers.Dense(256, activation='relu', name='deep_dense_256')(deep_model)\n",
    "deep_model = tf.keras.layers.Dense(128, activation='relu', name='deep_dense_128')(deep_model)\n",
    "\n",
    "wide_model = tf.keras.layers.DenseFeatures(wide, name='wide_features')(features_input)\n",
    "\n",
    "wide_and_deep = tf.keras.layers.concatenate([deep_model, wide_model], name='wide_and_deep_features')\n",
    "\n",
    "res = tf.keras.layers.Dense(1, activation='relu', name='pred')(wide_and_deep)\n",
    "\n",
    "model = tf.keras.Model(features_input, res)\n",
    "model.compile(optimizer='adam',\n",
    "              loss='mae',\n",
    "              metrics=['mse', 'mae', 'mean_absolute_percentage_error'])"
   ]
  },
  {
   "cell_type": "code",
   "execution_count": 31,
   "metadata": {},
   "outputs": [
    {
     "name": "stdout",
     "output_type": "stream",
     "text": [
      "CPU times: user 3min 20s, sys: 13.5 s, total: 3min 34s\n",
      "Wall time: 35.2 s\n"
     ]
    }
   ],
   "source": [
    "%%time\n",
    "hist = model.fit(ds_train,\n",
    "                 validation_data=ds_test,\n",
    "                 epochs=100,\n",
    "                 verbose=0)"
   ]
  },
  {
   "cell_type": "code",
   "execution_count": 32,
   "metadata": {},
   "outputs": [
    {
     "data": {
      "image/png": "[encoded data removed]",
      "text/plain": [
       "<Figure size 432x288 with 1 Axes>"
      ]
     },
     "metadata": {
      "needs_background": "light"
     },
     "output_type": "display_data"
    }
   ],
   "source": [
    "plt.plot(hist.history['mae'], label='train')\n",
    "plt.plot(hist.history['val_mae'], label='valid')\n",
    "plt.legend()\n",
    "plt.show()"
   ]
  },
  {
   "cell_type": "code",
   "execution_count": 33,
   "metadata": {},
   "outputs": [],
   "source": [
    "y_pred = model.predict(ds_test)\n",
    "\n",
    "metrics_and_model = get_results(y_test, y_pred[:, 0], 'wide_and_deep_regressor', model)\n",
    "results = results.append(metrics_and_model, ignore_index=True)"
   ]
  },
  {
   "cell_type": "code",
   "execution_count": 34,
   "metadata": {},
   "outputs": [
    {
     "data": {
      "text/html": [
       "<style  type=\"text/css\" >\n",
       "</style><table id=\"T_f2680720_d728_11ea_99f3_acde48001122\" ><thead>    <tr>        <th class=\"blank level0\" ></th>        <th class=\"col_heading level0 col0\" >explained_variance</th>        <th class=\"col_heading level0 col1\" >mae</th>        <th class=\"col_heading level0 col2\" >mape</th>        <th class=\"col_heading level0 col3\" >r2</th>    </tr>    <tr>        <th class=\"index_name level0\" >model_name</th>        <th class=\"blank\" ></th>        <th class=\"blank\" ></th>        <th class=\"blank\" ></th>        <th class=\"blank\" ></th>    </tr></thead><tbody>\n",
       "                <tr>\n",
       "                        <th id=\"T_f2680720_d728_11ea_99f3_acde48001122level0_row0\" class=\"row_heading level0 row0\" >benchmark_median_price</th>\n",
       "                        <td id=\"T_f2680720_d728_11ea_99f3_acde48001122row0_col0\" class=\"data row0 col0\" >0%</td>\n",
       "                        <td id=\"T_f2680720_d728_11ea_99f3_acde48001122row0_col1\" class=\"data row0 col1\" >16412</td>\n",
       "                        <td id=\"T_f2680720_d728_11ea_99f3_acde48001122row0_col2\" class=\"data row0 col2\" >26%</td>\n",
       "                        <td id=\"T_f2680720_d728_11ea_99f3_acde48001122row0_col3\" class=\"data row0 col3\" >-0%</td>\n",
       "            </tr>\n",
       "            <tr>\n",
       "                        <th id=\"T_f2680720_d728_11ea_99f3_acde48001122level0_row1\" class=\"row_heading level0 row1\" >benchmark_median_price_per_post_code</th>\n",
       "                        <td id=\"T_f2680720_d728_11ea_99f3_acde48001122row1_col0\" class=\"data row1 col0\" >25%</td>\n",
       "                        <td id=\"T_f2680720_d728_11ea_99f3_acde48001122row1_col1\" class=\"data row1 col1\" >13439</td>\n",
       "                        <td id=\"T_f2680720_d728_11ea_99f3_acde48001122row1_col2\" class=\"data row1 col2\" >22%</td>\n",
       "                        <td id=\"T_f2680720_d728_11ea_99f3_acde48001122row1_col3\" class=\"data row1 col3\" >24%</td>\n",
       "            </tr>\n",
       "            <tr>\n",
       "                        <th id=\"T_f2680720_d728_11ea_99f3_acde48001122level0_row2\" class=\"row_heading level0 row2\" >linear_model</th>\n",
       "                        <td id=\"T_f2680720_d728_11ea_99f3_acde48001122row2_col0\" class=\"data row2 col0\" >60%</td>\n",
       "                        <td id=\"T_f2680720_d728_11ea_99f3_acde48001122row2_col1\" class=\"data row2 col1\" >9780</td>\n",
       "                        <td id=\"T_f2680720_d728_11ea_99f3_acde48001122row2_col2\" class=\"data row2 col2\" >14%</td>\n",
       "                        <td id=\"T_f2680720_d728_11ea_99f3_acde48001122row2_col3\" class=\"data row2 col3\" >60%</td>\n",
       "            </tr>\n",
       "            <tr>\n",
       "                        <th id=\"T_f2680720_d728_11ea_99f3_acde48001122level0_row3\" class=\"row_heading level0 row3\" >dnn_regressor</th>\n",
       "                        <td id=\"T_f2680720_d728_11ea_99f3_acde48001122row3_col0\" class=\"data row3 col0\" >63%</td>\n",
       "                        <td id=\"T_f2680720_d728_11ea_99f3_acde48001122row3_col1\" class=\"data row3 col1\" >9081</td>\n",
       "                        <td id=\"T_f2680720_d728_11ea_99f3_acde48001122row3_col2\" class=\"data row3 col2\" >13%</td>\n",
       "                        <td id=\"T_f2680720_d728_11ea_99f3_acde48001122row3_col3\" class=\"data row3 col3\" >62%</td>\n",
       "            </tr>\n",
       "            <tr>\n",
       "                        <th id=\"T_f2680720_d728_11ea_99f3_acde48001122level0_row4\" class=\"row_heading level0 row4\" >wide_and_deep_regressor</th>\n",
       "                        <td id=\"T_f2680720_d728_11ea_99f3_acde48001122row4_col0\" class=\"data row4 col0\" >67%</td>\n",
       "                        <td id=\"T_f2680720_d728_11ea_99f3_acde48001122row4_col1\" class=\"data row4 col1\" >8374</td>\n",
       "                        <td id=\"T_f2680720_d728_11ea_99f3_acde48001122row4_col2\" class=\"data row4 col2\" >12%</td>\n",
       "                        <td id=\"T_f2680720_d728_11ea_99f3_acde48001122row4_col3\" class=\"data row4 col3\" >67%</td>\n",
       "            </tr>\n",
       "    </tbody></table>"
      ],
      "text/plain": [
       "<pandas.io.formats.style.Styler at 0x14f858a90>"
      ]
     },
     "execution_count": 34,
     "metadata": {},
     "output_type": "execute_result"
    }
   ],
   "source": [
    "results.set_index('model_name').drop('model', axis=1).style.format(style_format)"
   ]
  },
  {
   "cell_type": "markdown",
   "metadata": {},
   "source": [
    "### Combined Model"
   ]
  },
  {
   "cell_type": "code",
   "execution_count": 35,
   "metadata": {},
   "outputs": [],
   "source": [
    "stop_words = ['av', 'bak', 'blant', 'etter', 'for', 'fra',\n",
    "              'gjennom', 'hos', 'i', 'ifølge', 'innen',\n",
    "              'innenfor', 'med', 'mellom', 'mot', 'om',\n",
    "              'omkring', 'ovenfor', 'på', 'rundt', 'til',\n",
    "              'under', 'på grunn av', 'henhold','ved',\n",
    "              'og', 'over', 'pa', 'etg', 'inkl', 'ingen',\n",
    "              'kvm', 'en', 'et', 'alt', 'ca', 'm2']"
   ]
  },
  {
   "cell_type": "code",
   "execution_count": 36,
   "metadata": {},
   "outputs": [],
   "source": [
    "count_vect = feature_extraction.text.CountVectorizer(strip_accents='unicode',\n",
    "                                                     stop_words=stop_words,\n",
    "                                                     max_features=400,\n",
    "                                                     min_df=0.05,\n",
    "                                                     max_df=0.95\n",
    "                                                    )"
   ]
  },
  {
   "cell_type": "code",
   "execution_count": 37,
   "metadata": {},
   "outputs": [
    {
     "name": "stderr",
     "output_type": "stream",
     "text": [
      "/Users/ruslan.kozhuharov/venvs/tf/lib/python3.7/site-packages/sklearn/feature_extraction/text.py:385: UserWarning: Your stop_words may be inconsistent with your preprocessing. Tokenizing the stop words generated tokens ['grunn'] not in stop_words.\n",
      "  'stop_words.' % sorted(inconsistent))\n"
     ]
    },
    {
     "data": {
      "text/plain": [
       "CountVectorizer(analyzer='word', binary=False, decode_error='strict',\n",
       "                dtype=<class 'numpy.int64'>, encoding='utf-8', input='content',\n",
       "                lowercase=True, max_df=0.95, max_features=400, min_df=0.05,\n",
       "                ngram_range=(1, 1), preprocessor=None,\n",
       "                stop_words=['av', 'bak', 'blant', 'etter', 'for', 'fra',\n",
       "                            'gjennom', 'hos', 'i', 'ifølge', 'innen',\n",
       "                            'innenfor', 'med', 'mellom', 'mot', 'om', 'omkring',\n",
       "                            'ovenfor', 'på', 'rundt', 'til', 'under',\n",
       "                            'på grunn av', 'henhold', 'ved', 'og', 'over', 'pa',\n",
       "                            'etg', 'inkl', ...],\n",
       "                strip_accents='unicode', token_pattern='(?u)\\\\b\\\\w\\\\w+\\\\b',\n",
       "                tokenizer=None, vocabulary=None)"
      ]
     },
     "execution_count": 37,
     "metadata": {},
     "output_type": "execute_result"
    }
   ],
   "source": [
    "count_vect.fit(data_train.short_desc)"
   ]
  },
  {
   "cell_type": "code",
   "execution_count": 38,
   "metadata": {},
   "outputs": [],
   "source": [
    "vocab = pd.Series(count_vect.vocabulary_).sort_values().to_frame().transpose().columns.to_list()"
   ]
  },
  {
   "cell_type": "code",
   "execution_count": 39,
   "metadata": {},
   "outputs": [
    {
     "name": "stdout",
     "output_type": "stream",
     "text": [
      "['attraktiv', 'bad', 'balkong', 'barnevennlig', 'beliggenhet', 'felles', 'flott', 'fyring', 'garasje', 'garasjeplass', 'gjennomgaende', 'god', 'grunerløkka', 'hage', 'heis', 'hjørneleilighet', 'høy', 'kjøkken', 'klassisk', 'lave', 'leilighet', 'lekker', 'lys', 'meget', 'moderne', 'mulighet', 'peis', 'pen', 'plan', 'planløsning', 'rolig', 'roms', 'romslig', 'selveier', 'sentralt', 'solrik', 'standard', 'stor', 'takhøyde', 'takterrasse', 'terrasse', 'to', 'toppleilighet', 'utsikt', 'varmtvann', 'vestvendt']\n"
     ]
    }
   ],
   "source": [
    "print(vocab)"
   ]
  },
  {
   "cell_type": "code",
   "execution_count": 40,
   "metadata": {},
   "outputs": [],
   "source": [
    "vocab_size = len(count_vect.vocabulary_)"
   ]
  },
  {
   "cell_type": "code",
   "execution_count": 41,
   "metadata": {},
   "outputs": [],
   "source": [
    "text_train = count_vect.transform(data_train.short_desc)\n",
    "text_test = count_vect.transform(data_test.short_desc)"
   ]
  },
  {
   "cell_type": "code",
   "execution_count": 42,
   "metadata": {},
   "outputs": [
    {
     "data": {
      "text/plain": [
       "<7687x46 sparse matrix of type '<class 'numpy.int64'>'\n",
       "\twith 42600 stored elements in Compressed Sparse Row format>"
      ]
     },
     "execution_count": 42,
     "metadata": {},
     "output_type": "execute_result"
    }
   ],
   "source": [
    "text_train"
   ]
  },
  {
   "cell_type": "code",
   "execution_count": 43,
   "metadata": {},
   "outputs": [],
   "source": [
    "features_input = {'new_building': tf.keras.layers.Input(name='new_building', shape=(), dtype='float32'),\n",
    "                  'promoted': tf.keras.layers.Input(name='promoted', shape=(), dtype='float32'),\n",
    "                  'area':  tf.keras.layers.Input(name='area', shape=(), dtype='float32'),\n",
    "                  'type': tf.keras.layers.Input(name='type', shape=(), dtype='string'),\n",
    "                  'post_code': tf.keras.layers.Input(name='post_code', shape=(), dtype='string'),\n",
    "                  'text_vect': tf.keras.layers.Input(name='text_vect', shape=(vocab_size), dtype='float32')}\n",
    "\n",
    "text_vect = tf.feature_column.numeric_column(key='text_vect', shape=(vocab_size,))\n",
    "\n",
    "deep_model = tf.keras.layers.DenseFeatures(features + [text_vect], name='deep_features')(features_input)\n",
    "deep_model = tf.keras.layers.Dense(512, activation='relu', name='dense_512')(deep_model)\n",
    "deep_model = tf.keras.layers.Dense(128, activation='relu', name='dense_128')(deep_model)\n",
    "deep_model = tf.keras.layers.Dense(32, activation='relu', name='dense_32')(deep_model)"
   ]
  },
  {
   "cell_type": "code",
   "execution_count": 44,
   "metadata": {},
   "outputs": [],
   "source": [
    "res = tf.keras.layers.Dense(1, activation='relu', name='pred')(deep_model)\n",
    "\n",
    "model = tf.keras.Model(features_input, res)\n",
    "model.compile(optimizer='adam',\n",
    "              loss='mae',\n",
    "              metrics=['mse', 'mae', 'mean_absolute_percentage_error'])"
   ]
  },
  {
   "cell_type": "code",
   "execution_count": 45,
   "metadata": {},
   "outputs": [],
   "source": [
    "ds_text_train = tf.data.Dataset.from_tensor_slices(({'area': X_train.area,\n",
    "                                                     'new_building': X_train.new_building,\n",
    "                                                     'post_code': X_train.post_code,\n",
    "                                                     'promoted': X_train.promoted,\n",
    "                                                     'text_vect': text_train.todense(),\n",
    "                                                     'type': X_train.type}, y_train))\n",
    "\n",
    "ds_text_test = tf.data.Dataset.from_tensor_slices(({'area': X_test.area,\n",
    "                                                    'new_building': X_test.new_building,\n",
    "                                                    'post_code': X_test.post_code,\n",
    "                                                    'promoted': X_test.promoted,\n",
    "                                                    'text_vect': text_test.todense(),\n",
    "                                                    'type': X_test.type}, y_test))"
   ]
  },
  {
   "cell_type": "code",
   "execution_count": 46,
   "metadata": {},
   "outputs": [
    {
     "name": "stdout",
     "output_type": "stream",
     "text": [
      "CPU times: user 1min 7s, sys: 7.7 s, total: 1min 15s\n",
      "Wall time: 18.9 s\n"
     ]
    }
   ],
   "source": [
    "%%time\n",
    "hist = model.fit(ds_text_train.batch(batch_size),\n",
    "                 validation_data=ds_text_test.batch(batch_size),\n",
    "                 epochs=100,\n",
    "                 verbose=0)"
   ]
  },
  {
   "cell_type": "code",
   "execution_count": 47,
   "metadata": {},
   "outputs": [
    {
     "data": {
      "image/png": "[encoded data removed]",
      "text/plain": [
       "<Figure size 432x288 with 1 Axes>"
      ]
     },
     "metadata": {
      "needs_background": "light"
     },
     "output_type": "display_data"
    }
   ],
   "source": [
    "plt.plot(hist.history['mae'], label='train')\n",
    "plt.plot(hist.history['val_mae'], label='valid')\n",
    "plt.legend()\n",
    "plt.show()"
   ]
  },
  {
   "cell_type": "code",
   "execution_count": 48,
   "metadata": {},
   "outputs": [],
   "source": [
    "y_pred = model.predict(ds_text_test.batch(batch_size))\n",
    "\n",
    "metrics_and_model = get_results(y_test, y_pred[:, 0], 'combined_model', model)\n",
    "results = results.append(metrics_and_model, ignore_index=True)"
   ]
  },
  {
   "cell_type": "code",
   "execution_count": 49,
   "metadata": {},
   "outputs": [
    {
     "data": {
      "text/html": [
       "<style  type=\"text/css\" >\n",
       "</style><table id=\"T_fe8a19c6_d728_11ea_99f3_acde48001122\" ><thead>    <tr>        <th class=\"blank level0\" ></th>        <th class=\"col_heading level0 col0\" >explained_variance</th>        <th class=\"col_heading level0 col1\" >mae</th>        <th class=\"col_heading level0 col2\" >mape</th>        <th class=\"col_heading level0 col3\" >r2</th>    </tr>    <tr>        <th class=\"index_name level0\" >model_name</th>        <th class=\"blank\" ></th>        <th class=\"blank\" ></th>        <th class=\"blank\" ></th>        <th class=\"blank\" ></th>    </tr></thead><tbody>\n",
       "                <tr>\n",
       "                        <th id=\"T_fe8a19c6_d728_11ea_99f3_acde48001122level0_row0\" class=\"row_heading level0 row0\" >benchmark_median_price</th>\n",
       "                        <td id=\"T_fe8a19c6_d728_11ea_99f3_acde48001122row0_col0\" class=\"data row0 col0\" >0%</td>\n",
       "                        <td id=\"T_fe8a19c6_d728_11ea_99f3_acde48001122row0_col1\" class=\"data row0 col1\" >16412</td>\n",
       "                        <td id=\"T_fe8a19c6_d728_11ea_99f3_acde48001122row0_col2\" class=\"data row0 col2\" >26%</td>\n",
       "                        <td id=\"T_fe8a19c6_d728_11ea_99f3_acde48001122row0_col3\" class=\"data row0 col3\" >-0%</td>\n",
       "            </tr>\n",
       "            <tr>\n",
       "                        <th id=\"T_fe8a19c6_d728_11ea_99f3_acde48001122level0_row1\" class=\"row_heading level0 row1\" >benchmark_median_price_per_post_code</th>\n",
       "                        <td id=\"T_fe8a19c6_d728_11ea_99f3_acde48001122row1_col0\" class=\"data row1 col0\" >25%</td>\n",
       "                        <td id=\"T_fe8a19c6_d728_11ea_99f3_acde48001122row1_col1\" class=\"data row1 col1\" >13439</td>\n",
       "                        <td id=\"T_fe8a19c6_d728_11ea_99f3_acde48001122row1_col2\" class=\"data row1 col2\" >22%</td>\n",
       "                        <td id=\"T_fe8a19c6_d728_11ea_99f3_acde48001122row1_col3\" class=\"data row1 col3\" >24%</td>\n",
       "            </tr>\n",
       "            <tr>\n",
       "                        <th id=\"T_fe8a19c6_d728_11ea_99f3_acde48001122level0_row2\" class=\"row_heading level0 row2\" >linear_model</th>\n",
       "                        <td id=\"T_fe8a19c6_d728_11ea_99f3_acde48001122row2_col0\" class=\"data row2 col0\" >60%</td>\n",
       "                        <td id=\"T_fe8a19c6_d728_11ea_99f3_acde48001122row2_col1\" class=\"data row2 col1\" >9780</td>\n",
       "                        <td id=\"T_fe8a19c6_d728_11ea_99f3_acde48001122row2_col2\" class=\"data row2 col2\" >14%</td>\n",
       "                        <td id=\"T_fe8a19c6_d728_11ea_99f3_acde48001122row2_col3\" class=\"data row2 col3\" >60%</td>\n",
       "            </tr>\n",
       "            <tr>\n",
       "                        <th id=\"T_fe8a19c6_d728_11ea_99f3_acde48001122level0_row3\" class=\"row_heading level0 row3\" >dnn_regressor</th>\n",
       "                        <td id=\"T_fe8a19c6_d728_11ea_99f3_acde48001122row3_col0\" class=\"data row3 col0\" >63%</td>\n",
       "                        <td id=\"T_fe8a19c6_d728_11ea_99f3_acde48001122row3_col1\" class=\"data row3 col1\" >9081</td>\n",
       "                        <td id=\"T_fe8a19c6_d728_11ea_99f3_acde48001122row3_col2\" class=\"data row3 col2\" >13%</td>\n",
       "                        <td id=\"T_fe8a19c6_d728_11ea_99f3_acde48001122row3_col3\" class=\"data row3 col3\" >62%</td>\n",
       "            </tr>\n",
       "            <tr>\n",
       "                        <th id=\"T_fe8a19c6_d728_11ea_99f3_acde48001122level0_row4\" class=\"row_heading level0 row4\" >wide_and_deep_regressor</th>\n",
       "                        <td id=\"T_fe8a19c6_d728_11ea_99f3_acde48001122row4_col0\" class=\"data row4 col0\" >67%</td>\n",
       "                        <td id=\"T_fe8a19c6_d728_11ea_99f3_acde48001122row4_col1\" class=\"data row4 col1\" >8374</td>\n",
       "                        <td id=\"T_fe8a19c6_d728_11ea_99f3_acde48001122row4_col2\" class=\"data row4 col2\" >12%</td>\n",
       "                        <td id=\"T_fe8a19c6_d728_11ea_99f3_acde48001122row4_col3\" class=\"data row4 col3\" >67%</td>\n",
       "            </tr>\n",
       "            <tr>\n",
       "                        <th id=\"T_fe8a19c6_d728_11ea_99f3_acde48001122level0_row5\" class=\"row_heading level0 row5\" >combined_model</th>\n",
       "                        <td id=\"T_fe8a19c6_d728_11ea_99f3_acde48001122row5_col0\" class=\"data row5 col0\" >66%</td>\n",
       "                        <td id=\"T_fe8a19c6_d728_11ea_99f3_acde48001122row5_col1\" class=\"data row5 col1\" >8699</td>\n",
       "                        <td id=\"T_fe8a19c6_d728_11ea_99f3_acde48001122row5_col2\" class=\"data row5 col2\" >13%</td>\n",
       "                        <td id=\"T_fe8a19c6_d728_11ea_99f3_acde48001122row5_col3\" class=\"data row5 col3\" >66%</td>\n",
       "            </tr>\n",
       "    </tbody></table>"
      ],
      "text/plain": [
       "<pandas.io.formats.style.Styler at 0x150c9c250>"
      ]
     },
     "execution_count": 49,
     "metadata": {},
     "output_type": "execute_result"
    }
   ],
   "source": [
    "results.set_index('model_name').drop('model', axis=1).style.format(style_format)"
   ]
  },
  {
   "cell_type": "markdown",
   "metadata": {},
   "source": [
    "### Error Visualization"
   ]
  },
  {
   "cell_type": "code",
   "execution_count": 69,
   "metadata": {},
   "outputs": [],
   "source": [
    "best_model = results.loc[results.mae==results.mae.min(), 'model'].values[0]"
   ]
  },
  {
   "cell_type": "code",
   "execution_count": 72,
   "metadata": {},
   "outputs": [],
   "source": [
    "y_pred = best_model.predict(ds_test)[:, 0]"
   ]
  },
  {
   "cell_type": "code",
   "execution_count": 102,
   "metadata": {},
   "outputs": [
    {
     "data": {
      "image/png": "[encoded data removed]",
      "text/plain": [
       "<Figure size 864x720 with 1 Axes>"
      ]
     },
     "metadata": {
      "needs_background": "light"
     },
     "output_type": "display_data"
    }
   ],
   "source": [
    "fig = plt.figure(figsize=(12, 10))\n",
    "\n",
    "plt.scatter(y_test, y_pred)\n",
    "plt.xlabel('y_test')\n",
    "plt.ylabel('y_test')\n",
    "_ = plt.plot([0, outlier_cutoff+1e4], [0, outlier_cutoff+1e4], color='tab:orange')\n",
    "\n",
    "plt.title('True VS Predicted')\n",
    "plt.show()"
   ]
  },
  {
   "cell_type": "code",
   "execution_count": 101,
   "metadata": {},
   "outputs": [
    {
     "data": {
      "image/png": "[encoded data removed]",
      "text/plain": [
       "<Figure size 864x720 with 1 Axes>"
      ]
     },
     "metadata": {
      "needs_background": "light"
     },
     "output_type": "display_data"
    }
   ],
   "source": [
    "fig = plt.figure(figsize=(12, 10))\n",
    "\n",
    "sns.distplot(y_pred - y_test)\n",
    "plt.title('Error Distribution')\n",
    "\n",
    "plt.show()"
   ]
  },
  {
   "cell_type": "code",
   "execution_count": null,
   "metadata": {},
   "outputs": [],
   "source": []
  }
 ],
 "metadata": {
  "kernelspec": {
   "display_name": "Python 3",
   "language": "python",
   "name": "python3"
  },
  "language_info": {
   "codemirror_mode": {
    "name": "ipython",
    "version": 3
   },
   "file_extension": ".py",
   "mimetype": "text/x-python",
   "name": "python",
   "nbconvert_exporter": "python",
   "pygments_lexer": "ipython3",
   "version": "3.7.6"
  },
  "widgets": {
   "application/vnd.jupyter.widget-state+json": {
    "state": {},
    "version_major": 2,
    "version_minor": 0
   }
  }
 },
 "nbformat": 4,
 "nbformat_minor": 4
}
