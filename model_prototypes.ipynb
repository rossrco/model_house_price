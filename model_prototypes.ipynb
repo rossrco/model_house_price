{
 "cells": [
  {
   "cell_type": "code",
   "execution_count": 1,
   "metadata": {},
   "outputs": [],
   "source": [
    "import pandas as pd\n",
    "import numpy as np\n",
    "import google.cloud.bigquery as bq"
   ]
  },
  {
   "cell_type": "markdown",
   "metadata": {},
   "source": [
    "### Ingest Data"
   ]
  },
  {
   "cell_type": "code",
   "execution_count": 2,
   "metadata": {},
   "outputs": [],
   "source": [
    "%load_ext google.cloud.bigquery"
   ]
  },
  {
   "cell_type": "code",
   "execution_count": 3,
   "metadata": {},
   "outputs": [],
   "source": [
    "%%bigquery data\n",
    "SELECT\n",
    "  *\n",
    "FROM `curious-bot.homes.ad_details`\n",
    "WHERE price_per_sq_m IS NOT NULL\n",
    "  AND post_code IS NOT NULL"
   ]
  },
  {
   "cell_type": "code",
   "execution_count": 4,
   "metadata": {},
   "outputs": [],
   "source": [
    "data.set_index('id', inplace=True)"
   ]
  },
  {
   "cell_type": "code",
   "execution_count": 5,
   "metadata": {},
   "outputs": [
    {
     "name": "stdout",
     "output_type": "stream",
     "text": [
      "<class 'pandas.core.frame.DataFrame'>\n",
      "Index: 7544 entries, 85f3fd3a-b6e6-478c-9daf-2bf67db03572 to 2e3cc25c-5b8f-49f5-a7e1-b4670523346b\n",
      "Data columns (total 16 columns):\n",
      "new_building      7544 non-null bool\n",
      "promoted          7544 non-null bool\n",
      "price             7544 non-null int64\n",
      "area              7544 non-null int64\n",
      "price_per_sq_m    7544 non-null int64\n",
      "type              7544 non-null object\n",
      "viewed            7544 non-null datetime64[ns, UTC]\n",
      "address           7544 non-null object\n",
      "post_code         7544 non-null object\n",
      "street_num        7532 non-null object\n",
      "street_name       7540 non-null object\n",
      "postal_town       7544 non-null object\n",
      "country           7544 non-null object\n",
      "lat               7544 non-null float64\n",
      "lng               7544 non-null float64\n",
      "short_desc        7544 non-null object\n",
      "dtypes: bool(2), datetime64[ns, UTC](1), float64(2), int64(3), object(8)\n",
      "memory usage: 898.8+ KB\n"
     ]
    }
   ],
   "source": [
    "data.info()"
   ]
  },
  {
   "cell_type": "code",
   "execution_count": null,
   "metadata": {},
   "outputs": [],
   "source": []
  }
 ],
 "metadata": {
  "kernelspec": {
   "display_name": "Python 3",
   "language": "python",
   "name": "python3"
  },
  "language_info": {
   "codemirror_mode": {
    "name": "ipython",
    "version": 3
   },
   "file_extension": ".py",
   "mimetype": "text/x-python",
   "name": "python",
   "nbconvert_exporter": "python",
   "pygments_lexer": "ipython3",
   "version": "3.7.6"
  }
 },
 "nbformat": 4,
 "nbformat_minor": 4
}
